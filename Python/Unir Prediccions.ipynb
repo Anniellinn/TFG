{
 "cells": [
  {
   "cell_type": "markdown",
   "id": "48c94ac7",
   "metadata": {},
   "source": [
    "# UNIR DF"
   ]
  },
  {
   "cell_type": "markdown",
   "id": "ef139db7",
   "metadata": {},
   "source": [
    "## Importem els paquets"
   ]
  },
  {
   "cell_type": "code",
   "execution_count": 2,
   "id": "9e2e0cdf",
   "metadata": {},
   "outputs": [],
   "source": [
    "import os\n",
    "import pandas as pd\n",
    "import missingno as msno"
   ]
  },
  {
   "cell_type": "markdown",
   "id": "643b1b01",
   "metadata": {},
   "source": [
    "## Llegim els csv"
   ]
  },
  {
   "cell_type": "code",
   "execution_count": 3,
   "id": "5136b87d",
   "metadata": {
    "scrolled": false
   },
   "outputs": [
    {
     "data": {
      "text/html": [
       "<div>\n",
       "<style scoped>\n",
       "    .dataframe tbody tr th:only-of-type {\n",
       "        vertical-align: middle;\n",
       "    }\n",
       "\n",
       "    .dataframe tbody tr th {\n",
       "        vertical-align: top;\n",
       "    }\n",
       "\n",
       "    .dataframe thead th {\n",
       "        text-align: right;\n",
       "    }\n",
       "</style>\n",
       "<table border=\"1\" class=\"dataframe\">\n",
       "  <thead>\n",
       "    <tr style=\"text-align: right;\">\n",
       "      <th></th>\n",
       "      <th>Id</th>\n",
       "      <th>Fecha</th>\n",
       "      <th>Dia de la semana</th>\n",
       "      <th>Dia del mes</th>\n",
       "      <th>Hora</th>\n",
       "      <th>Estacion</th>\n",
       "      <th>PM1</th>\n",
       "      <th>PM2.5</th>\n",
       "      <th>PM10</th>\n",
       "      <th>NO</th>\n",
       "      <th>...</th>\n",
       "      <th>Temperatura</th>\n",
       "      <th>Humedad relativa</th>\n",
       "      <th>Presion</th>\n",
       "      <th>Radiacion</th>\n",
       "      <th>Precipitacion</th>\n",
       "      <th>Velocidad maxima del viento</th>\n",
       "      <th>Day</th>\n",
       "      <th>Year</th>\n",
       "      <th>Month</th>\n",
       "      <th>CH4</th>\n",
       "    </tr>\n",
       "  </thead>\n",
       "  <tbody>\n",
       "    <tr>\n",
       "      <th>0</th>\n",
       "      <td>250003</td>\n",
       "      <td>15/10/2019</td>\n",
       "      <td>Martes</td>\n",
       "      <td>15</td>\n",
       "      <td>8</td>\n",
       "      <td>Viveros</td>\n",
       "      <td>NaN</td>\n",
       "      <td>NaN</td>\n",
       "      <td>NaN</td>\n",
       "      <td>7.0</td>\n",
       "      <td>...</td>\n",
       "      <td>14.8</td>\n",
       "      <td>53.0</td>\n",
       "      <td>1005.0</td>\n",
       "      <td>250.0</td>\n",
       "      <td>0.0</td>\n",
       "      <td>8.8</td>\n",
       "      <td>15.0</td>\n",
       "      <td>2019</td>\n",
       "      <td>10</td>\n",
       "      <td>NaN</td>\n",
       "    </tr>\n",
       "    <tr>\n",
       "      <th>1</th>\n",
       "      <td>250007</td>\n",
       "      <td>15/10/2019</td>\n",
       "      <td>Martes</td>\n",
       "      <td>15</td>\n",
       "      <td>12</td>\n",
       "      <td>Viveros</td>\n",
       "      <td>NaN</td>\n",
       "      <td>NaN</td>\n",
       "      <td>NaN</td>\n",
       "      <td>3.0</td>\n",
       "      <td>...</td>\n",
       "      <td>21.4</td>\n",
       "      <td>25.0</td>\n",
       "      <td>1006.0</td>\n",
       "      <td>750.0</td>\n",
       "      <td>0.0</td>\n",
       "      <td>2.5</td>\n",
       "      <td>15.0</td>\n",
       "      <td>2019</td>\n",
       "      <td>10</td>\n",
       "      <td>NaN</td>\n",
       "    </tr>\n",
       "    <tr>\n",
       "      <th>2</th>\n",
       "      <td>250008</td>\n",
       "      <td>15/10/2019</td>\n",
       "      <td>Martes</td>\n",
       "      <td>15</td>\n",
       "      <td>13</td>\n",
       "      <td>Viveros</td>\n",
       "      <td>NaN</td>\n",
       "      <td>NaN</td>\n",
       "      <td>NaN</td>\n",
       "      <td>3.0</td>\n",
       "      <td>...</td>\n",
       "      <td>22.7</td>\n",
       "      <td>25.0</td>\n",
       "      <td>1005.0</td>\n",
       "      <td>728.0</td>\n",
       "      <td>0.0</td>\n",
       "      <td>2.4</td>\n",
       "      <td>15.0</td>\n",
       "      <td>2019</td>\n",
       "      <td>10</td>\n",
       "      <td>NaN</td>\n",
       "    </tr>\n",
       "    <tr>\n",
       "      <th>3</th>\n",
       "      <td>250012</td>\n",
       "      <td>15/10/2019</td>\n",
       "      <td>Martes</td>\n",
       "      <td>15</td>\n",
       "      <td>17</td>\n",
       "      <td>Viveros</td>\n",
       "      <td>NaN</td>\n",
       "      <td>NaN</td>\n",
       "      <td>NaN</td>\n",
       "      <td>4.0</td>\n",
       "      <td>...</td>\n",
       "      <td>23.8</td>\n",
       "      <td>23.0</td>\n",
       "      <td>1003.0</td>\n",
       "      <td>127.0</td>\n",
       "      <td>0.0</td>\n",
       "      <td>6.4</td>\n",
       "      <td>15.0</td>\n",
       "      <td>2019</td>\n",
       "      <td>10</td>\n",
       "      <td>NaN</td>\n",
       "    </tr>\n",
       "    <tr>\n",
       "      <th>4</th>\n",
       "      <td>250014</td>\n",
       "      <td>15/10/2019</td>\n",
       "      <td>Martes</td>\n",
       "      <td>15</td>\n",
       "      <td>19</td>\n",
       "      <td>Viveros</td>\n",
       "      <td>NaN</td>\n",
       "      <td>NaN</td>\n",
       "      <td>NaN</td>\n",
       "      <td>19.0</td>\n",
       "      <td>...</td>\n",
       "      <td>19.8</td>\n",
       "      <td>32.0</td>\n",
       "      <td>1005.0</td>\n",
       "      <td>0.0</td>\n",
       "      <td>0.0</td>\n",
       "      <td>6.6</td>\n",
       "      <td>15.0</td>\n",
       "      <td>2019</td>\n",
       "      <td>10</td>\n",
       "      <td>NaN</td>\n",
       "    </tr>\n",
       "    <tr>\n",
       "      <th>...</th>\n",
       "      <td>...</td>\n",
       "      <td>...</td>\n",
       "      <td>...</td>\n",
       "      <td>...</td>\n",
       "      <td>...</td>\n",
       "      <td>...</td>\n",
       "      <td>...</td>\n",
       "      <td>...</td>\n",
       "      <td>...</td>\n",
       "      <td>...</td>\n",
       "      <td>...</td>\n",
       "      <td>...</td>\n",
       "      <td>...</td>\n",
       "      <td>...</td>\n",
       "      <td>...</td>\n",
       "      <td>...</td>\n",
       "      <td>...</td>\n",
       "      <td>...</td>\n",
       "      <td>...</td>\n",
       "      <td>...</td>\n",
       "      <td>...</td>\n",
       "    </tr>\n",
       "    <tr>\n",
       "      <th>554141</th>\n",
       "      <td>169983</td>\n",
       "      <td>28/05/2022</td>\n",
       "      <td>Sabado</td>\n",
       "      <td>28</td>\n",
       "      <td>14</td>\n",
       "      <td>Nazaret Meteo</td>\n",
       "      <td>NaN</td>\n",
       "      <td>NaN</td>\n",
       "      <td>NaN</td>\n",
       "      <td>NaN</td>\n",
       "      <td>...</td>\n",
       "      <td>28.6</td>\n",
       "      <td>40.0</td>\n",
       "      <td>1009.0</td>\n",
       "      <td>987.0</td>\n",
       "      <td>0.0</td>\n",
       "      <td>7.8</td>\n",
       "      <td>NaN</td>\n",
       "      <td>2022</td>\n",
       "      <td>5</td>\n",
       "      <td>NaN</td>\n",
       "    </tr>\n",
       "    <tr>\n",
       "      <th>554142</th>\n",
       "      <td>169993</td>\n",
       "      <td>29/05/2022</td>\n",
       "      <td>Domingo</td>\n",
       "      <td>29</td>\n",
       "      <td>0</td>\n",
       "      <td>Nazaret Meteo</td>\n",
       "      <td>NaN</td>\n",
       "      <td>NaN</td>\n",
       "      <td>NaN</td>\n",
       "      <td>NaN</td>\n",
       "      <td>...</td>\n",
       "      <td>22.2</td>\n",
       "      <td>86.0</td>\n",
       "      <td>1005.0</td>\n",
       "      <td>1.0</td>\n",
       "      <td>0.0</td>\n",
       "      <td>1.1</td>\n",
       "      <td>NaN</td>\n",
       "      <td>2022</td>\n",
       "      <td>5</td>\n",
       "      <td>NaN</td>\n",
       "    </tr>\n",
       "    <tr>\n",
       "      <th>554143</th>\n",
       "      <td>169994</td>\n",
       "      <td>29/05/2022</td>\n",
       "      <td>Domingo</td>\n",
       "      <td>29</td>\n",
       "      <td>1</td>\n",
       "      <td>Nazaret Meteo</td>\n",
       "      <td>NaN</td>\n",
       "      <td>NaN</td>\n",
       "      <td>NaN</td>\n",
       "      <td>NaN</td>\n",
       "      <td>...</td>\n",
       "      <td>21.9</td>\n",
       "      <td>84.0</td>\n",
       "      <td>1005.0</td>\n",
       "      <td>1.0</td>\n",
       "      <td>0.0</td>\n",
       "      <td>1.6</td>\n",
       "      <td>NaN</td>\n",
       "      <td>2022</td>\n",
       "      <td>5</td>\n",
       "      <td>NaN</td>\n",
       "    </tr>\n",
       "    <tr>\n",
       "      <th>554144</th>\n",
       "      <td>169996</td>\n",
       "      <td>29/05/2022</td>\n",
       "      <td>Domingo</td>\n",
       "      <td>29</td>\n",
       "      <td>3</td>\n",
       "      <td>Nazaret Meteo</td>\n",
       "      <td>NaN</td>\n",
       "      <td>NaN</td>\n",
       "      <td>NaN</td>\n",
       "      <td>NaN</td>\n",
       "      <td>...</td>\n",
       "      <td>21.3</td>\n",
       "      <td>59.0</td>\n",
       "      <td>1003.0</td>\n",
       "      <td>1.0</td>\n",
       "      <td>0.0</td>\n",
       "      <td>2.3</td>\n",
       "      <td>NaN</td>\n",
       "      <td>2022</td>\n",
       "      <td>5</td>\n",
       "      <td>NaN</td>\n",
       "    </tr>\n",
       "    <tr>\n",
       "      <th>554145</th>\n",
       "      <td>170000</td>\n",
       "      <td>29/05/2022</td>\n",
       "      <td>Domingo</td>\n",
       "      <td>29</td>\n",
       "      <td>7</td>\n",
       "      <td>Nazaret Meteo</td>\n",
       "      <td>NaN</td>\n",
       "      <td>NaN</td>\n",
       "      <td>NaN</td>\n",
       "      <td>NaN</td>\n",
       "      <td>...</td>\n",
       "      <td>24.3</td>\n",
       "      <td>63.0</td>\n",
       "      <td>1004.0</td>\n",
       "      <td>233.0</td>\n",
       "      <td>0.0</td>\n",
       "      <td>4.5</td>\n",
       "      <td>NaN</td>\n",
       "      <td>2022</td>\n",
       "      <td>5</td>\n",
       "      <td>NaN</td>\n",
       "    </tr>\n",
       "  </tbody>\n",
       "</table>\n",
       "<p>554146 rows × 32 columns</p>\n",
       "</div>"
      ],
      "text/plain": [
       "            Id       Fecha Dia de la semana  Dia del mes  Hora       Estacion  \\\n",
       "0       250003  15/10/2019           Martes           15     8        Viveros   \n",
       "1       250007  15/10/2019           Martes           15    12        Viveros   \n",
       "2       250008  15/10/2019           Martes           15    13        Viveros   \n",
       "3       250012  15/10/2019           Martes           15    17        Viveros   \n",
       "4       250014  15/10/2019           Martes           15    19        Viveros   \n",
       "...        ...         ...              ...          ...   ...            ...   \n",
       "554141  169983  28/05/2022           Sabado           28    14  Nazaret Meteo   \n",
       "554142  169993  29/05/2022          Domingo           29     0  Nazaret Meteo   \n",
       "554143  169994  29/05/2022          Domingo           29     1  Nazaret Meteo   \n",
       "554144  169996  29/05/2022          Domingo           29     3  Nazaret Meteo   \n",
       "554145  170000  29/05/2022          Domingo           29     7  Nazaret Meteo   \n",
       "\n",
       "        PM1  PM2.5  PM10    NO  ...  Temperatura  Humedad relativa  Presion  \\\n",
       "0       NaN    NaN   NaN   7.0  ...         14.8              53.0   1005.0   \n",
       "1       NaN    NaN   NaN   3.0  ...         21.4              25.0   1006.0   \n",
       "2       NaN    NaN   NaN   3.0  ...         22.7              25.0   1005.0   \n",
       "3       NaN    NaN   NaN   4.0  ...         23.8              23.0   1003.0   \n",
       "4       NaN    NaN   NaN  19.0  ...         19.8              32.0   1005.0   \n",
       "...     ...    ...   ...   ...  ...          ...               ...      ...   \n",
       "554141  NaN    NaN   NaN   NaN  ...         28.6              40.0   1009.0   \n",
       "554142  NaN    NaN   NaN   NaN  ...         22.2              86.0   1005.0   \n",
       "554143  NaN    NaN   NaN   NaN  ...         21.9              84.0   1005.0   \n",
       "554144  NaN    NaN   NaN   NaN  ...         21.3              59.0   1003.0   \n",
       "554145  NaN    NaN   NaN   NaN  ...         24.3              63.0   1004.0   \n",
       "\n",
       "        Radiacion  Precipitacion  Velocidad maxima del viento   Day  Year  \\\n",
       "0           250.0            0.0                          8.8  15.0  2019   \n",
       "1           750.0            0.0                          2.5  15.0  2019   \n",
       "2           728.0            0.0                          2.4  15.0  2019   \n",
       "3           127.0            0.0                          6.4  15.0  2019   \n",
       "4             0.0            0.0                          6.6  15.0  2019   \n",
       "...           ...            ...                          ...   ...   ...   \n",
       "554141      987.0            0.0                          7.8   NaN  2022   \n",
       "554142        1.0            0.0                          1.1   NaN  2022   \n",
       "554143        1.0            0.0                          1.6   NaN  2022   \n",
       "554144        1.0            0.0                          2.3   NaN  2022   \n",
       "554145      233.0            0.0                          4.5   NaN  2022   \n",
       "\n",
       "        Month  CH4  \n",
       "0          10  NaN  \n",
       "1          10  NaN  \n",
       "2          10  NaN  \n",
       "3          10  NaN  \n",
       "4          10  NaN  \n",
       "...       ...  ...  \n",
       "554141      5  NaN  \n",
       "554142      5  NaN  \n",
       "554143      5  NaN  \n",
       "554144      5  NaN  \n",
       "554145      5  NaN  \n",
       "\n",
       "[554146 rows x 32 columns]"
      ]
     },
     "execution_count": 3,
     "metadata": {},
     "output_type": "execute_result"
    }
   ],
   "source": [
    "df_all= pd.read_csv(\"C:/Users/annal/OneDrive/Escriptori/TFG/data def/df_all (2).csv\", encoding=\"utf-8\" ,sep=\",\",low_memory=False)\n",
    "df_all"
   ]
  },
  {
   "cell_type": "code",
   "execution_count": 18,
   "id": "ba4e1e6d",
   "metadata": {},
   "outputs": [],
   "source": [
    "prob = df_all.rename(columns={'Fecha':'Data','Dia de la semana':'Dia de la setmana','Estacion':'Estació','Velocidad del viento':'Velocitat del vent','Direccion del viento':'Direcció del vent','Ruido':'Soroll','Humedad relativa':'Humitat relativa', 'Presion':'Presió', 'Radiacion':'Radiació',\n",
    "                             'Precipitacion':'Precipitació','Velocidad maxima del viento':'Velocitat màxima del vent'})\n",
    "prob=prob.drop(['Day','Year','Month'],axis=1)"
   ]
  },
  {
   "cell_type": "code",
   "execution_count": 19,
   "id": "bf65e085",
   "metadata": {},
   "outputs": [
    {
     "data": {
      "text/plain": [
       "<Axes: >"
      ]
     },
     "execution_count": 19,
     "metadata": {},
     "output_type": "execute_result"
    },
    {
     "data": {
      "image/png": "[encoded data removed]",
      "text/plain": [
       "<Figure size 2500x1000 with 2 Axes>"
      ]
     },
     "metadata": {},
     "output_type": "display_data"
    }
   ],
   "source": [
    "msno.matrix(prob)"
   ]
  },
  {
   "cell_type": "code",
   "execution_count": 98,
   "id": "4d160eaa",
   "metadata": {},
   "outputs": [
    {
     "data": {
      "text/plain": [
       "array(['Viveros', 'Conselleria Meteo', 'Avda. Francia', 'Bulevard Sud',\n",
       "       'Moli del Sol', 'Pista Silla', 'Politecnico', 'Valencia Centro',\n",
       "       'Puerto Valencia', 'Nazaret Meteo', 'Puerto llit antic Turia',\n",
       "       'Puerto Moll Trans. Ponent', 'Valencia Olivereta'], dtype=object)"
      ]
     },
     "execution_count": 98,
     "metadata": {},
     "output_type": "execute_result"
    }
   ],
   "source": [
    "df_all['Estacion'].unique()"
   ]
  },
  {
   "cell_type": "code",
   "execution_count": 101,
   "id": "8b7a5d54",
   "metadata": {},
   "outputs": [
    {
     "data": {
      "text/plain": [
       "Index(['Id', 'Fecha', 'Dia de la semana', 'Dia del mes', 'Hora', 'Estacion',\n",
       "       'PM1', 'PM2.5', 'PM10', 'NO', 'NO2', 'NOx', 'O3', 'SO2', 'CO',\n",
       "       'Velocidad del viento', 'Direccion del viento', 'NH3', 'C7H8', 'C6H6',\n",
       "       'Ruido', 'C8H10', 'Temperatura', 'Humedad relativa', 'Presion',\n",
       "       'Radiacion', 'Precipitacion', 'Velocidad maxima del viento', 'Day',\n",
       "       'Year', 'Month', 'CH4'],\n",
       "      dtype='object')"
      ]
     },
     "execution_count": 101,
     "metadata": {},
     "output_type": "execute_result"
    }
   ],
   "source": [
    "df_all.columns"
   ]
  },
  {
   "cell_type": "code",
   "execution_count": 102,
   "id": "0d9fc3cc",
   "metadata": {},
   "outputs": [
    {
     "name": "stdout",
     "output_type": "stream",
     "text": [
      "Viveros\n",
      "       PM2.5  PM10            NO           NO2           NOx            O3  \\\n",
      "count    0.0   0.0  58488.000000  58487.000000  58487.000000  60588.000000   \n",
      "mean     NaN   NaN      7.268705     21.505497     32.469660     53.048822   \n",
      "std      NaN   NaN     16.913484     18.745039     40.415056     29.174244   \n",
      "min      NaN   NaN      1.000000      1.000000      2.000000      1.000000   \n",
      "25%      NaN   NaN      2.000000      8.000000     11.000000     30.000000   \n",
      "50%      NaN   NaN      3.000000     16.000000     20.000000     54.000000   \n",
      "75%      NaN   NaN      5.000000     30.000000     37.000000     76.000000   \n",
      "max      NaN   NaN    393.000000    160.000000    735.000000    156.000000   \n",
      "\n",
      "                SO2   CO  \n",
      "count  58484.000000  0.0  \n",
      "mean       3.554254  NaN  \n",
      "std        1.267747  NaN  \n",
      "min        3.000000  NaN  \n",
      "25%        3.000000  NaN  \n",
      "50%        3.000000  NaN  \n",
      "75%        4.000000  NaN  \n",
      "max       28.000000  NaN  \n",
      "Avda. Francia\n",
      "              PM2.5          PM10            NO           NO2           NOx  \\\n",
      "count  46431.000000  46431.000000  59218.000000  59218.000000  59218.000000   \n",
      "mean       9.975491     18.250673      6.752947     21.889831     31.942686   \n",
      "std        8.534982     16.310519     17.850190     20.159018     42.713343   \n",
      "min        1.000000      1.000000      1.000000      1.000000      2.000000   \n",
      "25%        4.000000      7.000000      2.000000      8.000000     10.000000   \n",
      "50%        8.000000     14.000000      2.000000     15.000000     18.000000   \n",
      "75%       13.000000     24.000000      4.000000     29.000000     36.000000   \n",
      "max      112.000000    382.000000    532.000000    219.000000    987.000000   \n",
      "\n",
      "                 O3           SO2            CO  \n",
      "count  59621.000000  59054.000000  58350.000000  \n",
      "mean      51.836098      3.733617      0.139697  \n",
      "std       26.302556      1.282697      0.076908  \n",
      "min        3.000000      3.000000      0.100000  \n",
      "25%       32.000000      3.000000      0.100000  \n",
      "50%       54.000000      3.000000      0.100000  \n",
      "75%       71.000000      4.000000      0.200000  \n",
      "max      139.000000     22.000000      1.800000  \n",
      "Bulevard Sud\n",
      "       PM2.5  PM10            NO           NO2           NOx            O3  \\\n",
      "count    0.0   0.0  58818.000000  58818.000000  58819.000000  58562.000000   \n",
      "mean     NaN   NaN     12.280560     28.168605     46.824172     50.386257   \n",
      "std      NaN   NaN     24.906706     21.808226     54.637158     29.661075   \n",
      "min      NaN   NaN      1.000000      1.000000      2.000000      1.000000   \n",
      "25%      NaN   NaN      2.000000     12.000000     17.000000     24.000000   \n",
      "50%      NaN   NaN      4.000000     23.000000     30.000000     53.000000   \n",
      "75%      NaN   NaN     10.000000     38.000000     54.000000     73.000000   \n",
      "max      NaN   NaN    456.000000    229.000000    787.000000    148.000000   \n",
      "\n",
      "                SO2   CO  \n",
      "count  59778.000000  0.0  \n",
      "mean       4.047292  NaN  \n",
      "std        1.611015  NaN  \n",
      "min        3.000000  NaN  \n",
      "25%        3.000000  NaN  \n",
      "50%        3.000000  NaN  \n",
      "75%        5.000000  NaN  \n",
      "max       35.000000  NaN  \n",
      "Moli del Sol\n",
      "              PM2.5          PM10            NO           NO2           NOx  \\\n",
      "count  51523.000000  51523.000000  51177.000000  51177.000000  51177.000000   \n",
      "mean      14.601537     16.741902      6.966079     18.728843     29.223675   \n",
      "std       11.706845     12.878920     15.316944     15.673304     35.216407   \n",
      "min        1.000000      1.000000      1.000000      1.000000      2.000000   \n",
      "25%        6.000000      8.000000      1.000000      7.000000     10.000000   \n",
      "50%       12.000000     13.000000      3.000000     14.000000     19.000000   \n",
      "75%       19.000000     22.000000      5.000000     26.000000     34.000000   \n",
      "max      193.000000    247.000000    273.000000    144.000000    552.000000   \n",
      "\n",
      "                 O3           SO2            CO  \n",
      "count  52128.000000  50589.000000  49149.000000  \n",
      "mean      51.596090      3.633735      0.147014  \n",
      "std       27.950588      1.309762      0.085234  \n",
      "min        1.000000      3.000000      0.100000  \n",
      "25%       28.000000      3.000000      0.100000  \n",
      "50%       54.000000      3.000000      0.100000  \n",
      "75%       73.000000      4.000000      0.200000  \n",
      "max      134.000000     28.000000      1.400000  \n",
      "Pista Silla\n",
      "              PM2.5          PM10            NO           NO2           NOx  \\\n",
      "count  60476.000000  60392.000000  60208.000000  60208.000000  60208.000000   \n",
      "mean      11.040479     20.763379     16.706169     29.321203     54.774017   \n",
      "std        9.377047     22.844121     25.802664     22.576353     58.194028   \n",
      "min        1.000000      1.000000      1.000000      1.000000      2.000000   \n",
      "25%        5.000000      9.000000      3.000000     11.000000     16.000000   \n",
      "50%        9.000000     15.000000      8.000000     24.000000     37.000000   \n",
      "75%       14.000000     24.000000     20.000000     43.000000     73.000000   \n",
      "max      249.000000    372.000000    491.000000    184.000000    936.000000   \n",
      "\n",
      "                 O3           SO2            CO  \n",
      "count  58202.000000  58936.000000  57518.000000  \n",
      "mean      46.515549      4.032663      0.162899  \n",
      "std       27.049188      2.018343      0.113749  \n",
      "min        1.000000      3.000000      0.100000  \n",
      "25%       25.000000      3.000000      0.100000  \n",
      "50%       48.000000      3.000000      0.100000  \n",
      "75%       67.000000      4.000000      0.200000  \n",
      "max      165.000000     65.000000      9.000000  \n",
      "Politecnico\n",
      "              PM2.5          PM10            NO           NO2           NOx  \\\n",
      "count  59180.000000  59180.000000  59172.000000  59172.000000  59173.000000   \n",
      "mean      10.989811     16.031345      4.525722     16.177821     22.863232   \n",
      "std        8.571018     12.185050     11.910508     17.072631     31.706608   \n",
      "min        1.000000      1.000000      1.000000      1.000000      2.000000   \n",
      "25%        5.000000      8.000000      1.000000      4.000000      6.000000   \n",
      "50%        9.000000     13.000000      1.000000     10.000000     11.000000   \n",
      "75%       14.000000     21.000000      2.000000     22.000000     26.000000   \n",
      "max      176.000000    228.000000    249.000000    142.000000    490.000000   \n",
      "\n",
      "                 O3           SO2   CO  \n",
      "count  59917.000000  60005.000000  0.0  \n",
      "mean      54.727406      3.576169  NaN  \n",
      "std       28.532857      1.322272  NaN  \n",
      "min        1.000000      0.000000  NaN  \n",
      "25%       33.000000      3.000000  NaN  \n",
      "50%       55.000000      3.000000  NaN  \n",
      "75%       76.000000      4.000000  NaN  \n",
      "max      169.000000     66.000000  NaN  \n",
      "Valencia Centro\n",
      "              PM2.5          PM10            NO           NO2           NOx  \\\n",
      "count  36021.000000  36021.000000  35939.000000  35938.000000  35939.000000   \n",
      "mean      12.762777     21.970184     12.813768     24.781457     44.224798   \n",
      "std       10.673731     16.654893     20.057485     19.238325     45.702156   \n",
      "min        1.000000      1.000000      1.000000      1.000000      2.000000   \n",
      "25%        6.000000     10.000000      3.000000     10.000000     16.000000   \n",
      "50%       10.000000     19.000000      6.000000     19.000000     29.000000   \n",
      "75%       16.000000     29.000000     13.000000     35.000000     56.000000   \n",
      "max      296.000000    325.000000    317.000000    142.000000    551.000000   \n",
      "\n",
      "        O3  SO2   CO  \n",
      "count  0.0  0.0  0.0  \n",
      "mean   NaN  NaN  NaN  \n",
      "std    NaN  NaN  NaN  \n",
      "min    NaN  NaN  NaN  \n",
      "25%    NaN  NaN  NaN  \n",
      "50%    NaN  NaN  NaN  \n",
      "75%    NaN  NaN  NaN  \n",
      "max    NaN  NaN  NaN  \n",
      "Puerto llit antic Turia\n",
      "              PM2.5          PM10            NO           NO2           NOx  \\\n",
      "count  13538.000000  13537.000000  13387.000000  13386.000000  13387.000000   \n",
      "mean      11.052076     21.492724     12.853813     27.372404     46.979009   \n",
      "std        8.071760     14.852107     21.600444     19.786924     49.126409   \n",
      "min        1.000000      1.000000      1.000000      2.000000      3.000000   \n",
      "25%        6.000000     12.000000      1.000000     12.000000     14.000000   \n",
      "50%       10.000000     18.000000      4.000000     23.000000     29.000000   \n",
      "75%       14.000000     27.000000     14.000000     39.000000     61.000000   \n",
      "max      258.000000    284.000000    303.000000    122.000000    506.000000   \n",
      "\n",
      "                 O3           SO2            CO  \n",
      "count  13330.000000  13372.000000  12067.000000  \n",
      "mean      52.815304      2.208944      0.170705  \n",
      "std       27.194803      1.604072      0.139704  \n",
      "min        1.000000      1.000000      0.100000  \n",
      "25%       34.000000      1.000000      0.100000  \n",
      "50%       54.000000      2.000000      0.100000  \n",
      "75%       71.000000      3.000000      0.200000  \n",
      "max      162.000000     59.000000      7.900000  \n",
      "Puerto Moll Trans. Ponent\n",
      "              PM2.5          PM10            NO           NO2           NOx  \\\n",
      "count  17218.000000  17216.000000  17128.000000  17127.000000  17128.000000   \n",
      "mean      10.617900     22.473048     13.525689     27.321656     47.861455   \n",
      "std        7.780678     17.385609     24.545546     21.084443     54.424562   \n",
      "min        0.000000      1.000000      1.000000      1.000000      2.000000   \n",
      "25%        5.000000     12.000000      2.000000     12.000000     15.000000   \n",
      "50%        9.000000     19.000000      4.000000     22.000000     30.000000   \n",
      "75%       14.000000     29.000000     14.000000     38.000000     60.000000   \n",
      "max      219.000000    354.000000    307.000000    153.000000    563.000000   \n",
      "\n",
      "                 O3           SO2            CO  \n",
      "count  17052.000000  17076.000000  17154.000000  \n",
      "mean      57.710532      3.019208      0.146304  \n",
      "std       28.183345      2.011733      0.090437  \n",
      "min        1.000000      1.000000      0.100000  \n",
      "25%       38.000000      2.000000      0.100000  \n",
      "50%       58.000000      3.000000      0.100000  \n",
      "75%       78.000000      4.000000      0.200000  \n",
      "max      160.000000    167.000000      1.900000  \n"
     ]
    }
   ],
   "source": [
    "for i in ['Viveros', 'Avda. Francia', 'Bulevard Sud',\n",
    "       'Moli del Sol', 'Pista Silla', 'Politecnico', 'Valencia Centro',\n",
    "        'Puerto llit antic Turia',\n",
    "       'Puerto Moll Trans. Ponent']: \n",
    "    \n",
    "    est=df_all.loc[df_all.loc[:,'Estacion']==i]\n",
    "    est=est[['PM2.5', 'PM10', 'NO', 'NO2', 'NOx', 'O3', 'SO2', 'CO']]\n",
    "    print(i)\n",
    "    d=est.describe()\n",
    "    print(d)"
   ]
  },
  {
   "cell_type": "code",
   "execution_count": 80,
   "id": "e178b833",
   "metadata": {},
   "outputs": [
    {
     "name": "stdout",
     "output_type": "stream",
     "text": [
      "CH4                            99.999820\n",
      "C6H6                           89.695134\n",
      "C7H8                           89.651283\n",
      "C8H10                          89.623493\n",
      "NH3                            89.604003\n",
      "Ruido                          89.336565\n",
      "PM1                            84.754198\n",
      "CO                             64.364806\n",
      "PM10                           46.710073\n",
      "PM2.5                          46.694373\n",
      "Day                            36.358649\n",
      "SO2                            28.136809\n",
      "O3                             27.962667\n",
      "NO                             23.133615\n",
      "NOx                            23.133434\n",
      "NO2                            20.001768\n",
      "Humedad relativa               18.068523\n",
      "Radiacion                      15.659050\n",
      "Temperatura                    15.481660\n",
      "Velocidad maxima del viento    15.228839\n",
      "Precipitacion                  15.009402\n",
      "Presion                        14.867021\n",
      "Velocidad del viento           13.553287\n",
      "Direccion del viento           13.124159\n",
      "Fecha                           0.000000\n",
      "Estacion                        0.000000\n",
      "Hora                            0.000000\n",
      "Dia del mes                     0.000000\n",
      "Dia de la semana                0.000000\n",
      "Year                            0.000000\n",
      "Month                           0.000000\n",
      "Id                              0.000000\n",
      "dtype: float64\n"
     ]
    }
   ],
   "source": [
    "na_ratio = ((df_all.isnull().sum() / len(df_all))*100).sort_values(ascending = False)\n",
    "print(na_ratio)"
   ]
  },
  {
   "cell_type": "code",
   "execution_count": 106,
   "id": "b505eb28",
   "metadata": {
    "scrolled": true
   },
   "outputs": [],
   "source": [
    "df = df_all.drop(df_all[df_all['Estacion']=='Conselleria Meteo'].index)\n",
    "df = df.drop(df[df['Estacion']=='Nazaret Meteo'].index)\n",
    "df = df.drop(df[df['Estacion']=='Puerto Valencia'].index)\n",
    "df = df.drop(df[df['Estacion']=='Valencia Olivereta'].index)\n",
    "\n"
   ]
  },
  {
   "cell_type": "code",
   "execution_count": 7,
   "id": "d43b23bc",
   "metadata": {},
   "outputs": [
    {
     "data": {
      "text/plain": [
       "array(['Viveros', 'Avda. Francia', 'Bulevard Sud', 'Moli del Sol',\n",
       "       'Pista Silla', 'Politecnico', 'Valencia Centro',\n",
       "       'Puerto llit antic Turia', 'Puerto Moll Trans. Ponent'],\n",
       "      dtype=object)"
      ]
     },
     "execution_count": 7,
     "metadata": {},
     "output_type": "execute_result"
    }
   ],
   "source": [
    "df['Estacion'].unique()"
   ]
  },
  {
   "cell_type": "code",
   "execution_count": 107,
   "id": "7edd79f4",
   "metadata": {},
   "outputs": [
    {
     "name": "stdout",
     "output_type": "stream",
     "text": [
      "CH4                            99.999768\n",
      "C6H6                           86.763404\n",
      "C7H8                           86.707077\n",
      "C8H10                          86.671380\n",
      "NH3                            86.646346\n",
      "Ruido                          86.302821\n",
      "PM1                            80.525023\n",
      "CO                             54.976009\n",
      "Day                            36.549918\n",
      "PM10                           34.099812\n",
      "PM2.5                          34.079646\n",
      "Humedad relativa               20.266104\n",
      "Temperatura                    17.297466\n",
      "Radiacion                      17.133585\n",
      "Velocidad maxima del viento    16.982453\n",
      "Precipitacion                  16.777312\n",
      "Presion                        16.650054\n",
      "Velocidad del viento           14.868223\n",
      "Direccion del viento           14.422475\n",
      "SO2                            12.543984\n",
      "O3                             12.055817\n",
      "NO2                             4.144317\n",
      "NO                              4.143390\n",
      "NOx                             4.143158\n",
      "Fecha                           0.000000\n",
      "Estacion                        0.000000\n",
      "Hora                            0.000000\n",
      "Dia del mes                     0.000000\n",
      "Dia de la semana                0.000000\n",
      "Year                            0.000000\n",
      "Month                           0.000000\n",
      "Id                              0.000000\n",
      "dtype: float64\n"
     ]
    }
   ],
   "source": [
    "na_ratio = ((df.isnull().sum() / len(df))*100).sort_values(ascending = False)\n",
    "print(na_ratio)"
   ]
  },
  {
   "cell_type": "code",
   "execution_count": 115,
   "id": "ea083cc2",
   "metadata": {
    "scrolled": false
   },
   "outputs": [
    {
     "name": "stderr",
     "output_type": "stream",
     "text": [
      "\r",
      "  0%|                                                                                           | 0/10 [00:00<?, ?it/s]"
     ]
    },
    {
     "name": "stdout",
     "output_type": "stream",
     "text": [
      "1.2887971998794652\n"
     ]
    },
    {
     "name": "stderr",
     "output_type": "stream",
     "text": [
      "\r",
      " 10%|████████▎                                                                          | 1/10 [00:10<01:31, 10.19s/it]"
     ]
    },
    {
     "name": "stdout",
     "output_type": "stream",
     "text": [
      "2.8031339097378365\n"
     ]
    },
    {
     "name": "stderr",
     "output_type": "stream",
     "text": [
      " 30%|████████████████████████▉                                                          | 3/10 [00:14<00:25,  3.61s/it]"
     ]
    },
    {
     "name": "stdout",
     "output_type": "stream",
     "text": [
      "1.2299204932662664\n",
      "1.6188776338054287\n"
     ]
    },
    {
     "name": "stderr",
     "output_type": "stream",
     "text": [
      "\r",
      " 40%|█████████████████████████████████▏                                                 | 4/10 [00:14<00:13,  2.25s/it]"
     ]
    },
    {
     "name": "stdout",
     "output_type": "stream",
     "text": [
      "1.618414037690364\n"
     ]
    },
    {
     "name": "stderr",
     "output_type": "stream",
     "text": [
      " 50%|█████████████████████████████████████████▌                                         | 5/10 [00:15<00:15,  3.08s/it]\n"
     ]
    },
    {
     "ename": "KeyError",
     "evalue": "'Estacion'",
     "output_type": "error",
     "traceback": [
      "\u001b[1;31m---------------------------------------------------------------------------\u001b[0m",
      "\u001b[1;31mKeyError\u001b[0m                                  Traceback (most recent call last)",
      "File \u001b[1;32m~\\anaconda3\\lib\\site-packages\\pandas\\core\\indexes\\base.py:3802\u001b[0m, in \u001b[0;36mIndex.get_loc\u001b[1;34m(self, key, method, tolerance)\u001b[0m\n\u001b[0;32m   3801\u001b[0m \u001b[38;5;28;01mtry\u001b[39;00m:\n\u001b[1;32m-> 3802\u001b[0m     \u001b[38;5;28;01mreturn\u001b[39;00m \u001b[38;5;28;43mself\u001b[39;49m\u001b[38;5;241;43m.\u001b[39;49m\u001b[43m_engine\u001b[49m\u001b[38;5;241;43m.\u001b[39;49m\u001b[43mget_loc\u001b[49m\u001b[43m(\u001b[49m\u001b[43mcasted_key\u001b[49m\u001b[43m)\u001b[49m\n\u001b[0;32m   3803\u001b[0m \u001b[38;5;28;01mexcept\u001b[39;00m \u001b[38;5;167;01mKeyError\u001b[39;00m \u001b[38;5;28;01mas\u001b[39;00m err:\n",
      "File \u001b[1;32m~\\anaconda3\\lib\\site-packages\\pandas\\_libs\\index.pyx:138\u001b[0m, in \u001b[0;36mpandas._libs.index.IndexEngine.get_loc\u001b[1;34m()\u001b[0m\n",
      "File \u001b[1;32m~\\anaconda3\\lib\\site-packages\\pandas\\_libs\\index.pyx:165\u001b[0m, in \u001b[0;36mpandas._libs.index.IndexEngine.get_loc\u001b[1;34m()\u001b[0m\n",
      "File \u001b[1;32mpandas\\_libs\\hashtable_class_helper.pxi:5745\u001b[0m, in \u001b[0;36mpandas._libs.hashtable.PyObjectHashTable.get_item\u001b[1;34m()\u001b[0m\n",
      "File \u001b[1;32mpandas\\_libs\\hashtable_class_helper.pxi:5753\u001b[0m, in \u001b[0;36mpandas._libs.hashtable.PyObjectHashTable.get_item\u001b[1;34m()\u001b[0m\n",
      "\u001b[1;31mKeyError\u001b[0m: 'Estacion'",
      "\nThe above exception was the direct cause of the following exception:\n",
      "\u001b[1;31mKeyError\u001b[0m                                  Traceback (most recent call last)",
      "Cell \u001b[1;32mIn[115], line 14\u001b[0m\n\u001b[0;32m     11\u001b[0m \u001b[38;5;28;01melse\u001b[39;00m: \n\u001b[0;32m     12\u001b[0m     data\u001b[38;5;241m=\u001b[39m pd\u001b[38;5;241m.\u001b[39mread_csv(\u001b[38;5;124mf\u001b[39m\u001b[38;5;124m\"\u001b[39m\u001b[38;5;132;01m{\u001b[39;00mpath\u001b[38;5;132;01m}\u001b[39;00m\u001b[38;5;132;01m{\u001b[39;00mp\u001b[38;5;132;01m}\u001b[39;00m\u001b[38;5;124m\"\u001b[39m, encoding\u001b[38;5;241m=\u001b[39m\u001b[38;5;124m\"\u001b[39m\u001b[38;5;124mutf-8\u001b[39m\u001b[38;5;124m\"\u001b[39m ,sep\u001b[38;5;241m=\u001b[39m\u001b[38;5;124m\"\u001b[39m\u001b[38;5;124m,\u001b[39m\u001b[38;5;124m\"\u001b[39m,decimal\u001b[38;5;241m=\u001b[39m\u001b[38;5;124m\"\u001b[39m\u001b[38;5;124m.\u001b[39m\u001b[38;5;124m\"\u001b[39m,low_memory\u001b[38;5;241m=\u001b[39m\u001b[38;5;28;01mFalse\u001b[39;00m)\n\u001b[1;32m---> 14\u001b[0m data \u001b[38;5;241m=\u001b[39m data\u001b[38;5;241m.\u001b[39mdrop(data[\u001b[43mdata\u001b[49m\u001b[43m[\u001b[49m\u001b[38;5;124;43m'\u001b[39;49m\u001b[38;5;124;43mEstacion\u001b[39;49m\u001b[38;5;124;43m'\u001b[39;49m\u001b[43m]\u001b[49m\u001b[38;5;241m==\u001b[39m\u001b[38;5;124m'\u001b[39m\u001b[38;5;124mConselleria Meteo\u001b[39m\u001b[38;5;124m'\u001b[39m]\u001b[38;5;241m.\u001b[39mindex)\n\u001b[0;32m     15\u001b[0m data \u001b[38;5;241m=\u001b[39m data\u001b[38;5;241m.\u001b[39mdrop(data[data[\u001b[38;5;124m'\u001b[39m\u001b[38;5;124mEstacion\u001b[39m\u001b[38;5;124m'\u001b[39m]\u001b[38;5;241m==\u001b[39m\u001b[38;5;124m'\u001b[39m\u001b[38;5;124mNazaret Meteo\u001b[39m\u001b[38;5;124m'\u001b[39m]\u001b[38;5;241m.\u001b[39mindex)\n\u001b[0;32m     16\u001b[0m data \u001b[38;5;241m=\u001b[39m data\u001b[38;5;241m.\u001b[39mdrop(data[data[\u001b[38;5;124m'\u001b[39m\u001b[38;5;124mEstacion\u001b[39m\u001b[38;5;124m'\u001b[39m]\u001b[38;5;241m==\u001b[39m\u001b[38;5;124m'\u001b[39m\u001b[38;5;124mPuerto Valencia\u001b[39m\u001b[38;5;124m'\u001b[39m]\u001b[38;5;241m.\u001b[39mindex)\n",
      "File \u001b[1;32m~\\anaconda3\\lib\\site-packages\\pandas\\core\\frame.py:3807\u001b[0m, in \u001b[0;36mDataFrame.__getitem__\u001b[1;34m(self, key)\u001b[0m\n\u001b[0;32m   3805\u001b[0m \u001b[38;5;28;01mif\u001b[39;00m \u001b[38;5;28mself\u001b[39m\u001b[38;5;241m.\u001b[39mcolumns\u001b[38;5;241m.\u001b[39mnlevels \u001b[38;5;241m>\u001b[39m \u001b[38;5;241m1\u001b[39m:\n\u001b[0;32m   3806\u001b[0m     \u001b[38;5;28;01mreturn\u001b[39;00m \u001b[38;5;28mself\u001b[39m\u001b[38;5;241m.\u001b[39m_getitem_multilevel(key)\n\u001b[1;32m-> 3807\u001b[0m indexer \u001b[38;5;241m=\u001b[39m \u001b[38;5;28;43mself\u001b[39;49m\u001b[38;5;241;43m.\u001b[39;49m\u001b[43mcolumns\u001b[49m\u001b[38;5;241;43m.\u001b[39;49m\u001b[43mget_loc\u001b[49m\u001b[43m(\u001b[49m\u001b[43mkey\u001b[49m\u001b[43m)\u001b[49m\n\u001b[0;32m   3808\u001b[0m \u001b[38;5;28;01mif\u001b[39;00m is_integer(indexer):\n\u001b[0;32m   3809\u001b[0m     indexer \u001b[38;5;241m=\u001b[39m [indexer]\n",
      "File \u001b[1;32m~\\anaconda3\\lib\\site-packages\\pandas\\core\\indexes\\base.py:3804\u001b[0m, in \u001b[0;36mIndex.get_loc\u001b[1;34m(self, key, method, tolerance)\u001b[0m\n\u001b[0;32m   3802\u001b[0m     \u001b[38;5;28;01mreturn\u001b[39;00m \u001b[38;5;28mself\u001b[39m\u001b[38;5;241m.\u001b[39m_engine\u001b[38;5;241m.\u001b[39mget_loc(casted_key)\n\u001b[0;32m   3803\u001b[0m \u001b[38;5;28;01mexcept\u001b[39;00m \u001b[38;5;167;01mKeyError\u001b[39;00m \u001b[38;5;28;01mas\u001b[39;00m err:\n\u001b[1;32m-> 3804\u001b[0m     \u001b[38;5;28;01mraise\u001b[39;00m \u001b[38;5;167;01mKeyError\u001b[39;00m(key) \u001b[38;5;28;01mfrom\u001b[39;00m \u001b[38;5;21;01merr\u001b[39;00m\n\u001b[0;32m   3805\u001b[0m \u001b[38;5;28;01mexcept\u001b[39;00m \u001b[38;5;167;01mTypeError\u001b[39;00m:\n\u001b[0;32m   3806\u001b[0m     \u001b[38;5;66;03m# If we have a listlike key, _check_indexing_error will raise\u001b[39;00m\n\u001b[0;32m   3807\u001b[0m     \u001b[38;5;66;03m#  InvalidIndexError. Otherwise we fall through and re-raise\u001b[39;00m\n\u001b[0;32m   3808\u001b[0m     \u001b[38;5;66;03m#  the TypeError.\u001b[39;00m\n\u001b[0;32m   3809\u001b[0m     \u001b[38;5;28mself\u001b[39m\u001b[38;5;241m.\u001b[39m_check_indexing_error(key)\n",
      "\u001b[1;31mKeyError\u001b[0m: 'Estacion'"
     ]
    }
   ],
   "source": [
    "from tqdm import tqdm\n",
    "path=\"C:/Users/annal/OneDrive/Escriptori/TFG/pred/\"\n",
    "folder=os.listdir(path)\n",
    "for p in tqdm(folder):\n",
    "  \n",
    "    n=p.split('.')\n",
    "    n=n[0]\n",
    "    if p=='PREDICCIONS_O3.csv':\n",
    "        data= pd.read_csv(f\"{path}{p}\", encoding=\"utf-8\" ,sep=\";\",decimal=\".\",low_memory=False)\n",
    "\n",
    "    else: \n",
    "        data= pd.read_csv(f\"{path}{p}\", encoding=\"utf-8\" ,sep=\",\",decimal=\".\",low_memory=False)\n",
    "\n",
    "    data = data.drop(data[data['Estacion']=='Conselleria Meteo'].index)\n",
    "    data = data.drop(data[data['Estacion']=='Nazaret Meteo'].index)\n",
    "    data = data.drop(data[data['Estacion']=='Puerto Valencia'].index)\n",
    "    data = data.drop(data[data['Estacion']=='Valencia Olivereta'].index)\n",
    "    na_ratio = ((len(data) / len(df))*100)\n",
    "    print(na_ratio)\n",
    "    try: \n",
    "        df[n] = df.groupby('Id')[n].fillna(data[n])\n",
    "    except:\n",
    "        pass"
   ]
  },
  {
   "cell_type": "code",
   "execution_count": null,
   "id": "5a508b10",
   "metadata": {},
   "outputs": [],
   "source": [
    "data=\n",
    "\n",
    "df_uni=df.merge(data, how=\"left\", on = [\"Id\"])\n",
    "df_uni.loc[df_uni[f'{n}_x'].isna(),f'{n}_x']= df_uni[df_uni[f'{n}_y'].isna()][f\"{n}_y\"]\n",
    "df_uni = df_uni[[i for i in df_uni.columns if not i.endswith(\"_y\")]]\n",
    "df_uni.columns = [i if not i.endswith(\"_x\") else i[:-2] for i in df_uni.columns]\n"
   ]
  },
  {
   "cell_type": "code",
   "execution_count": 132,
   "id": "81bf0ce6",
   "metadata": {
    "scrolled": false
   },
   "outputs": [
    {
     "name": "stderr",
     "output_type": "stream",
     "text": [
      "\r",
      "  0%|                                                                                           | 0/11 [00:00<?, ?it/s]"
     ]
    },
    {
     "name": "stdout",
     "output_type": "stream",
     "text": [
      "CO\n",
      "1.0033456886813223\n"
     ]
    },
    {
     "name": "stderr",
     "output_type": "stream",
     "text": [
      "\r",
      "  9%|███████▌                                                                           | 1/11 [00:00<00:09,  1.06it/s]"
     ]
    },
    {
     "name": "stdout",
     "output_type": "stream",
     "text": [
      "Humedad relativa\n",
      "2.182276872881876\n"
     ]
    },
    {
     "name": "stderr",
     "output_type": "stream",
     "text": [
      "\r",
      " 18%|███████████████                                                                    | 2/11 [00:01<00:08,  1.05it/s]"
     ]
    },
    {
     "name": "stdout",
     "output_type": "stream",
     "text": [
      "NO\n",
      "0.9575093928314922\n"
     ]
    },
    {
     "name": "stderr",
     "output_type": "stream",
     "text": [
      "\r",
      " 27%|██████████████████████▋                                                            | 3/11 [00:02<00:07,  1.05it/s]"
     ]
    },
    {
     "name": "stdout",
     "output_type": "stream",
     "text": [
      "NO2\n",
      "1.2603176780126537\n"
     ]
    },
    {
     "name": "stderr",
     "output_type": "stream",
     "text": [
      "\r",
      " 36%|██████████████████████████████▏                                                    | 4/11 [00:05<00:11,  1.60s/it]"
     ]
    },
    {
     "name": "stdout",
     "output_type": "stream",
     "text": [
      "NOx\n",
      "1.2599567622973007\n"
     ]
    },
    {
     "name": "stderr",
     "output_type": "stream",
     "text": [
      "\r",
      " 45%|█████████████████████████████████████▋                                             | 5/11 [00:06<00:08,  1.41s/it]"
     ]
    },
    {
     "name": "stdout",
     "output_type": "stream",
     "text": [
      "O3\n",
      "0.8189177581359425\n"
     ]
    },
    {
     "name": "stderr",
     "output_type": "stream",
     "text": [
      "\r",
      " 55%|█████████████████████████████████████████████▎                                     | 6/11 [00:07<00:06,  1.37s/it]"
     ]
    },
    {
     "name": "stdout",
     "output_type": "stream",
     "text": [
      "PM10\n",
      "2.5671934833058434\n"
     ]
    },
    {
     "name": "stderr",
     "output_type": "stream",
     "text": [
      "\r",
      " 64%|████████████████████████████████████████████████████▊                              | 7/11 [00:08<00:05,  1.29s/it]"
     ]
    },
    {
     "name": "stdout",
     "output_type": "stream",
     "text": [
      "PM2\n",
      "2.5639452418676667\n"
     ]
    },
    {
     "name": "stderr",
     "output_type": "stream",
     "text": [
      " 73%|████████████████████████████████████████████████████████████▎                      | 8/11 [00:10<00:03,  1.27s/it]\n"
     ]
    },
    {
     "name": "stdout",
     "output_type": "stream",
     "text": [
      "reconstruccio\n"
     ]
    },
    {
     "ename": "ParserError",
     "evalue": "Error tokenizing data. C error: Expected 15 fields in line 16, saw 18\n",
     "output_type": "error",
     "traceback": [
      "\u001b[1;31m---------------------------------------------------------------------------\u001b[0m",
      "\u001b[1;31mParserError\u001b[0m                               Traceback (most recent call last)",
      "Cell \u001b[1;32mIn[132], line 19\u001b[0m\n\u001b[0;32m     16\u001b[0m     data\u001b[38;5;241m=\u001b[39m pd\u001b[38;5;241m.\u001b[39mread_csv(\u001b[38;5;124mf\u001b[39m\u001b[38;5;124m\"\u001b[39m\u001b[38;5;132;01m{\u001b[39;00mpath\u001b[38;5;132;01m}\u001b[39;00m\u001b[38;5;132;01m{\u001b[39;00mp\u001b[38;5;132;01m}\u001b[39;00m\u001b[38;5;124m\"\u001b[39m, encoding\u001b[38;5;241m=\u001b[39m\u001b[38;5;124m\"\u001b[39m\u001b[38;5;124mutf-8\u001b[39m\u001b[38;5;124m\"\u001b[39m ,sep\u001b[38;5;241m=\u001b[39m\u001b[38;5;124m\"\u001b[39m\u001b[38;5;124m,\u001b[39m\u001b[38;5;124m\"\u001b[39m,decimal\u001b[38;5;241m=\u001b[39m\u001b[38;5;124m\"\u001b[39m\u001b[38;5;124m.\u001b[39m\u001b[38;5;124m\"\u001b[39m,low_memory\u001b[38;5;241m=\u001b[39m\u001b[38;5;28;01mFalse\u001b[39;00m)\n\u001b[0;32m     18\u001b[0m \u001b[38;5;28;01melse\u001b[39;00m: \n\u001b[1;32m---> 19\u001b[0m     data\u001b[38;5;241m=\u001b[39m \u001b[43mpd\u001b[49m\u001b[38;5;241;43m.\u001b[39;49m\u001b[43mread_csv\u001b[49m\u001b[43m(\u001b[49m\u001b[38;5;124;43mf\u001b[39;49m\u001b[38;5;124;43m\"\u001b[39;49m\u001b[38;5;132;43;01m{\u001b[39;49;00m\u001b[43mpath\u001b[49m\u001b[38;5;132;43;01m}\u001b[39;49;00m\u001b[38;5;132;43;01m{\u001b[39;49;00m\u001b[43mp\u001b[49m\u001b[38;5;132;43;01m}\u001b[39;49;00m\u001b[38;5;124;43m\"\u001b[39;49m\u001b[43m,\u001b[49m\u001b[43m \u001b[49m\u001b[43mencoding\u001b[49m\u001b[38;5;241;43m=\u001b[39;49m\u001b[38;5;124;43m\"\u001b[39;49m\u001b[38;5;124;43mutf-8\u001b[39;49m\u001b[38;5;124;43m\"\u001b[39;49m\u001b[43m \u001b[49m\u001b[43m,\u001b[49m\u001b[43msep\u001b[49m\u001b[38;5;241;43m=\u001b[39;49m\u001b[38;5;124;43m\"\u001b[39;49m\u001b[38;5;124;43m,\u001b[39;49m\u001b[38;5;124;43m\"\u001b[39;49m\u001b[43m,\u001b[49m\u001b[43mdecimal\u001b[49m\u001b[38;5;241;43m=\u001b[39;49m\u001b[38;5;124;43m\"\u001b[39;49m\u001b[38;5;124;43m.\u001b[39;49m\u001b[38;5;124;43m\"\u001b[39;49m\u001b[43m,\u001b[49m\u001b[43mlow_memory\u001b[49m\u001b[38;5;241;43m=\u001b[39;49m\u001b[38;5;28;43;01mFalse\u001b[39;49;00m\u001b[43m)\u001b[49m\n\u001b[0;32m     20\u001b[0m \u001b[38;5;28mprint\u001b[39m(\u001b[38;5;28mlen\u001b[39m(data) \u001b[38;5;241m/\u001b[39m \u001b[38;5;28mlen\u001b[39m(df_all)\u001b[38;5;241m*\u001b[39m\u001b[38;5;241m100\u001b[39m)\n\u001b[0;32m     21\u001b[0m df_uni \u001b[38;5;241m=\u001b[39m df_all\u001b[38;5;241m.\u001b[39mmerge(data[[\u001b[38;5;124m\"\u001b[39m\u001b[38;5;124mId\u001b[39m\u001b[38;5;124m\"\u001b[39m,n,\u001b[38;5;124m\"\u001b[39m\u001b[38;5;124mHora\u001b[39m\u001b[38;5;124m\"\u001b[39m,\u001b[38;5;124m\"\u001b[39m\u001b[38;5;124mDia del mes\u001b[39m\u001b[38;5;124m\"\u001b[39m, \u001b[38;5;124m\"\u001b[39m\u001b[38;5;124mEstacion\u001b[39m\u001b[38;5;124m\"\u001b[39m,\u001b[38;5;124m\"\u001b[39m\u001b[38;5;124mYear\u001b[39m\u001b[38;5;124m\"\u001b[39m,\u001b[38;5;124m\"\u001b[39m\u001b[38;5;124mMonth\u001b[39m\u001b[38;5;124m\"\u001b[39m]],how\u001b[38;5;241m=\u001b[39m\u001b[38;5;124m\"\u001b[39m\u001b[38;5;124mleft\u001b[39m\u001b[38;5;124m\"\u001b[39m, on\u001b[38;5;241m=\u001b[39m[\u001b[38;5;124m\"\u001b[39m\u001b[38;5;124mId\u001b[39m\u001b[38;5;124m\"\u001b[39m,\u001b[38;5;124m\"\u001b[39m\u001b[38;5;124mHora\u001b[39m\u001b[38;5;124m\"\u001b[39m,\u001b[38;5;124m\"\u001b[39m\u001b[38;5;124mDia del mes\u001b[39m\u001b[38;5;124m\"\u001b[39m, \u001b[38;5;124m\"\u001b[39m\u001b[38;5;124mEstacion\u001b[39m\u001b[38;5;124m\"\u001b[39m,\u001b[38;5;124m\"\u001b[39m\u001b[38;5;124mYear\u001b[39m\u001b[38;5;124m\"\u001b[39m,\u001b[38;5;124m\"\u001b[39m\u001b[38;5;124mMonth\u001b[39m\u001b[38;5;124m\"\u001b[39m])\n",
      "File \u001b[1;32m~\\anaconda3\\lib\\site-packages\\pandas\\util\\_decorators.py:211\u001b[0m, in \u001b[0;36mdeprecate_kwarg.<locals>._deprecate_kwarg.<locals>.wrapper\u001b[1;34m(*args, **kwargs)\u001b[0m\n\u001b[0;32m    209\u001b[0m     \u001b[38;5;28;01melse\u001b[39;00m:\n\u001b[0;32m    210\u001b[0m         kwargs[new_arg_name] \u001b[38;5;241m=\u001b[39m new_arg_value\n\u001b[1;32m--> 211\u001b[0m \u001b[38;5;28;01mreturn\u001b[39;00m func(\u001b[38;5;241m*\u001b[39margs, \u001b[38;5;241m*\u001b[39m\u001b[38;5;241m*\u001b[39mkwargs)\n",
      "File \u001b[1;32m~\\anaconda3\\lib\\site-packages\\pandas\\util\\_decorators.py:331\u001b[0m, in \u001b[0;36mdeprecate_nonkeyword_arguments.<locals>.decorate.<locals>.wrapper\u001b[1;34m(*args, **kwargs)\u001b[0m\n\u001b[0;32m    325\u001b[0m \u001b[38;5;28;01mif\u001b[39;00m \u001b[38;5;28mlen\u001b[39m(args) \u001b[38;5;241m>\u001b[39m num_allow_args:\n\u001b[0;32m    326\u001b[0m     warnings\u001b[38;5;241m.\u001b[39mwarn(\n\u001b[0;32m    327\u001b[0m         msg\u001b[38;5;241m.\u001b[39mformat(arguments\u001b[38;5;241m=\u001b[39m_format_argument_list(allow_args)),\n\u001b[0;32m    328\u001b[0m         \u001b[38;5;167;01mFutureWarning\u001b[39;00m,\n\u001b[0;32m    329\u001b[0m         stacklevel\u001b[38;5;241m=\u001b[39mfind_stack_level(),\n\u001b[0;32m    330\u001b[0m     )\n\u001b[1;32m--> 331\u001b[0m \u001b[38;5;28;01mreturn\u001b[39;00m func(\u001b[38;5;241m*\u001b[39margs, \u001b[38;5;241m*\u001b[39m\u001b[38;5;241m*\u001b[39mkwargs)\n",
      "File \u001b[1;32m~\\anaconda3\\lib\\site-packages\\pandas\\io\\parsers\\readers.py:950\u001b[0m, in \u001b[0;36mread_csv\u001b[1;34m(filepath_or_buffer, sep, delimiter, header, names, index_col, usecols, squeeze, prefix, mangle_dupe_cols, dtype, engine, converters, true_values, false_values, skipinitialspace, skiprows, skipfooter, nrows, na_values, keep_default_na, na_filter, verbose, skip_blank_lines, parse_dates, infer_datetime_format, keep_date_col, date_parser, dayfirst, cache_dates, iterator, chunksize, compression, thousands, decimal, lineterminator, quotechar, quoting, doublequote, escapechar, comment, encoding, encoding_errors, dialect, error_bad_lines, warn_bad_lines, on_bad_lines, delim_whitespace, low_memory, memory_map, float_precision, storage_options)\u001b[0m\n\u001b[0;32m    935\u001b[0m kwds_defaults \u001b[38;5;241m=\u001b[39m _refine_defaults_read(\n\u001b[0;32m    936\u001b[0m     dialect,\n\u001b[0;32m    937\u001b[0m     delimiter,\n\u001b[1;32m   (...)\u001b[0m\n\u001b[0;32m    946\u001b[0m     defaults\u001b[38;5;241m=\u001b[39m{\u001b[38;5;124m\"\u001b[39m\u001b[38;5;124mdelimiter\u001b[39m\u001b[38;5;124m\"\u001b[39m: \u001b[38;5;124m\"\u001b[39m\u001b[38;5;124m,\u001b[39m\u001b[38;5;124m\"\u001b[39m},\n\u001b[0;32m    947\u001b[0m )\n\u001b[0;32m    948\u001b[0m kwds\u001b[38;5;241m.\u001b[39mupdate(kwds_defaults)\n\u001b[1;32m--> 950\u001b[0m \u001b[38;5;28;01mreturn\u001b[39;00m \u001b[43m_read\u001b[49m\u001b[43m(\u001b[49m\u001b[43mfilepath_or_buffer\u001b[49m\u001b[43m,\u001b[49m\u001b[43m \u001b[49m\u001b[43mkwds\u001b[49m\u001b[43m)\u001b[49m\n",
      "File \u001b[1;32m~\\anaconda3\\lib\\site-packages\\pandas\\io\\parsers\\readers.py:611\u001b[0m, in \u001b[0;36m_read\u001b[1;34m(filepath_or_buffer, kwds)\u001b[0m\n\u001b[0;32m    608\u001b[0m     \u001b[38;5;28;01mreturn\u001b[39;00m parser\n\u001b[0;32m    610\u001b[0m \u001b[38;5;28;01mwith\u001b[39;00m parser:\n\u001b[1;32m--> 611\u001b[0m     \u001b[38;5;28;01mreturn\u001b[39;00m \u001b[43mparser\u001b[49m\u001b[38;5;241;43m.\u001b[39;49m\u001b[43mread\u001b[49m\u001b[43m(\u001b[49m\u001b[43mnrows\u001b[49m\u001b[43m)\u001b[49m\n",
      "File \u001b[1;32m~\\anaconda3\\lib\\site-packages\\pandas\\io\\parsers\\readers.py:1778\u001b[0m, in \u001b[0;36mTextFileReader.read\u001b[1;34m(self, nrows)\u001b[0m\n\u001b[0;32m   1771\u001b[0m nrows \u001b[38;5;241m=\u001b[39m validate_integer(\u001b[38;5;124m\"\u001b[39m\u001b[38;5;124mnrows\u001b[39m\u001b[38;5;124m\"\u001b[39m, nrows)\n\u001b[0;32m   1772\u001b[0m \u001b[38;5;28;01mtry\u001b[39;00m:\n\u001b[0;32m   1773\u001b[0m     \u001b[38;5;66;03m# error: \"ParserBase\" has no attribute \"read\"\u001b[39;00m\n\u001b[0;32m   1774\u001b[0m     (\n\u001b[0;32m   1775\u001b[0m         index,\n\u001b[0;32m   1776\u001b[0m         columns,\n\u001b[0;32m   1777\u001b[0m         col_dict,\n\u001b[1;32m-> 1778\u001b[0m     ) \u001b[38;5;241m=\u001b[39m \u001b[38;5;28;43mself\u001b[39;49m\u001b[38;5;241;43m.\u001b[39;49m\u001b[43m_engine\u001b[49m\u001b[38;5;241;43m.\u001b[39;49m\u001b[43mread\u001b[49m\u001b[43m(\u001b[49m\u001b[43m  \u001b[49m\u001b[38;5;66;43;03m# type: ignore[attr-defined]\u001b[39;49;00m\n\u001b[0;32m   1779\u001b[0m \u001b[43m        \u001b[49m\u001b[43mnrows\u001b[49m\n\u001b[0;32m   1780\u001b[0m \u001b[43m    \u001b[49m\u001b[43m)\u001b[49m\n\u001b[0;32m   1781\u001b[0m \u001b[38;5;28;01mexcept\u001b[39;00m \u001b[38;5;167;01mException\u001b[39;00m:\n\u001b[0;32m   1782\u001b[0m     \u001b[38;5;28mself\u001b[39m\u001b[38;5;241m.\u001b[39mclose()\n",
      "File \u001b[1;32m~\\anaconda3\\lib\\site-packages\\pandas\\io\\parsers\\c_parser_wrapper.py:235\u001b[0m, in \u001b[0;36mCParserWrapper.read\u001b[1;34m(self, nrows)\u001b[0m\n\u001b[0;32m    232\u001b[0m         data \u001b[38;5;241m=\u001b[39m _concatenate_chunks(chunks)\n\u001b[0;32m    234\u001b[0m     \u001b[38;5;28;01melse\u001b[39;00m:\n\u001b[1;32m--> 235\u001b[0m         data \u001b[38;5;241m=\u001b[39m \u001b[38;5;28;43mself\u001b[39;49m\u001b[38;5;241;43m.\u001b[39;49m\u001b[43m_reader\u001b[49m\u001b[38;5;241;43m.\u001b[39;49m\u001b[43mread\u001b[49m\u001b[43m(\u001b[49m\u001b[43mnrows\u001b[49m\u001b[43m)\u001b[49m\n\u001b[0;32m    236\u001b[0m \u001b[38;5;28;01mexcept\u001b[39;00m \u001b[38;5;167;01mStopIteration\u001b[39;00m:\n\u001b[0;32m    237\u001b[0m     \u001b[38;5;28;01mif\u001b[39;00m \u001b[38;5;28mself\u001b[39m\u001b[38;5;241m.\u001b[39m_first_chunk:\n",
      "File \u001b[1;32m~\\anaconda3\\lib\\site-packages\\pandas\\_libs\\parsers.pyx:790\u001b[0m, in \u001b[0;36mpandas._libs.parsers.TextReader.read\u001b[1;34m()\u001b[0m\n",
      "File \u001b[1;32m~\\anaconda3\\lib\\site-packages\\pandas\\_libs\\parsers.pyx:883\u001b[0m, in \u001b[0;36mpandas._libs.parsers.TextReader._read_rows\u001b[1;34m()\u001b[0m\n",
      "File \u001b[1;32m~\\anaconda3\\lib\\site-packages\\pandas\\_libs\\parsers.pyx:1973\u001b[0m, in \u001b[0;36mpandas._libs.parsers.raise_parser_error\u001b[1;34m()\u001b[0m\n",
      "\u001b[1;31mParserError\u001b[0m: Error tokenizing data. C error: Expected 15 fields in line 16, saw 18\n"
     ]
    }
   ],
   "source": [
    "##def uni pred\n",
    "\n",
    "from tqdm import tqdm\n",
    "path=\"C:/Users/annal/OneDrive/Escriptori/TFG/pred/\"\n",
    "folder=os.listdir(path)\n",
    "for p in tqdm(folder):\n",
    "\n",
    "    n=p.split('.')\n",
    "    n=n[0]\n",
    "    print(n)\n",
    "\n",
    "    if p=='O3.csv':\n",
    "        data= pd.read_csv(f\"{path}{p}\", encoding=\"utf-8\" ,sep=\";\",decimal=\".\",low_memory=False)\n",
    "    elif p=='PM2.5.csv':\n",
    "        n='PM2.5'\n",
    "        data= pd.read_csv(f\"{path}{p}\", encoding=\"utf-8\" ,sep=\",\",decimal=\".\",low_memory=False)\n",
    "    \n",
    "    else: \n",
    "        data= pd.read_csv(f\"{path}{p}\", encoding=\"utf-8\" ,sep=\",\",decimal=\".\",low_memory=False)\n",
    "    print(len(data) / len(df_all)*100)\n",
    "    df_uni = df_all.merge(data[[\"Id\",n,\"Hora\",\"Dia del mes\", \"Estacion\",\"Year\",\"Month\"]],how=\"left\", on=[\"Id\",\"Hora\",\"Dia del mes\", \"Estacion\",\"Year\",\"Month\"])\n",
    "    df_uni[f'{n}_x'] = df_uni[f'{n}_x'].fillna(df_uni[f'{n}_y'])\n",
    "    df_uni = df_uni[[col for col in df_uni.columns if not col.endswith(\"_y\")]]\n",
    "    df_uni.columns = [col if not col.endswith(\"_x\") else col[:-2] for col in df_uni.columns]\n",
    "df_uni.to_csv(f'C:/Users/annal/OneDrive/Escriptori/TFG/pred/proba_reconstruccio.csv',sep=';',decimal=',',header=True, index=False)\n"
   ]
  },
  {
   "cell_type": "code",
   "execution_count": null,
   "id": "8625ec89",
   "metadata": {},
   "outputs": [],
   "source": [
    "pd.read_csv(f\"{path}DF_reconstruccio.csv\", encoding=\"utf-8\" ,sep=\",\",decimal=\".\",low_memory=False)\n"
   ]
  },
  {
   "cell_type": "code",
   "execution_count": 130,
   "id": "7d1d6688",
   "metadata": {},
   "outputs": [
    {
     "data": {
      "text/html": [
       "<div>\n",
       "<style scoped>\n",
       "    .dataframe tbody tr th:only-of-type {\n",
       "        vertical-align: middle;\n",
       "    }\n",
       "\n",
       "    .dataframe tbody tr th {\n",
       "        vertical-align: top;\n",
       "    }\n",
       "\n",
       "    .dataframe thead th {\n",
       "        text-align: right;\n",
       "    }\n",
       "</style>\n",
       "<table border=\"1\" class=\"dataframe\">\n",
       "  <thead>\n",
       "    <tr style=\"text-align: right;\">\n",
       "      <th></th>\n",
       "      <th>Id</th>\n",
       "      <th>Fecha</th>\n",
       "      <th>Dia de la semana</th>\n",
       "      <th>Dia del mes</th>\n",
       "      <th>Hora</th>\n",
       "      <th>Estacion</th>\n",
       "      <th>PM1</th>\n",
       "      <th>PM2.5</th>\n",
       "      <th>PM10</th>\n",
       "      <th>NO</th>\n",
       "      <th>...</th>\n",
       "      <th>Temperatura</th>\n",
       "      <th>Humedad relativa</th>\n",
       "      <th>Presion</th>\n",
       "      <th>Radiacion</th>\n",
       "      <th>Precipitacion</th>\n",
       "      <th>Velocidad maxima del viento</th>\n",
       "      <th>Day</th>\n",
       "      <th>Year</th>\n",
       "      <th>Month</th>\n",
       "      <th>CH4</th>\n",
       "    </tr>\n",
       "  </thead>\n",
       "  <tbody>\n",
       "    <tr>\n",
       "      <th>198794</th>\n",
       "      <td>10</td>\n",
       "      <td>01/01/2016</td>\n",
       "      <td>Viernes</td>\n",
       "      <td>1</td>\n",
       "      <td>9</td>\n",
       "      <td>Avda. Francia</td>\n",
       "      <td>NaN</td>\n",
       "      <td>NaN</td>\n",
       "      <td>NaN</td>\n",
       "      <td>3.0</td>\n",
       "      <td>...</td>\n",
       "      <td>13.0</td>\n",
       "      <td>74.0</td>\n",
       "      <td>1012.0</td>\n",
       "      <td>67.0</td>\n",
       "      <td>0.0</td>\n",
       "      <td>0.8</td>\n",
       "      <td>1.0</td>\n",
       "      <td>2016</td>\n",
       "      <td>1</td>\n",
       "      <td>NaN</td>\n",
       "    </tr>\n",
       "    <tr>\n",
       "      <th>419998</th>\n",
       "      <td>10</td>\n",
       "      <td>01/01/2021</td>\n",
       "      <td>Viernes</td>\n",
       "      <td>1</td>\n",
       "      <td>9</td>\n",
       "      <td>Avda. Francia</td>\n",
       "      <td>NaN</td>\n",
       "      <td>1.0</td>\n",
       "      <td>1.0</td>\n",
       "      <td>1.0</td>\n",
       "      <td>...</td>\n",
       "      <td>7.4</td>\n",
       "      <td>71.0</td>\n",
       "      <td>993.0</td>\n",
       "      <td>44.0</td>\n",
       "      <td>1.2</td>\n",
       "      <td>9.2</td>\n",
       "      <td>NaN</td>\n",
       "      <td>2021</td>\n",
       "      <td>1</td>\n",
       "      <td>NaN</td>\n",
       "    </tr>\n",
       "  </tbody>\n",
       "</table>\n",
       "<p>2 rows × 32 columns</p>\n",
       "</div>"
      ],
      "text/plain": [
       "        Id       Fecha Dia de la semana  Dia del mes  Hora       Estacion  \\\n",
       "198794  10  01/01/2016          Viernes            1     9  Avda. Francia   \n",
       "419998  10  01/01/2021          Viernes            1     9  Avda. Francia   \n",
       "\n",
       "        PM1  PM2.5  PM10   NO  ...  Temperatura  Humedad relativa  Presion  \\\n",
       "198794  NaN    NaN   NaN  3.0  ...         13.0              74.0   1012.0   \n",
       "419998  NaN    1.0   1.0  1.0  ...          7.4              71.0    993.0   \n",
       "\n",
       "        Radiacion  Precipitacion  Velocidad maxima del viento  Day  Year  \\\n",
       "198794       67.0            0.0                          0.8  1.0  2016   \n",
       "419998       44.0            1.2                          9.2  NaN  2021   \n",
       "\n",
       "        Month  CH4  \n",
       "198794      1  NaN  \n",
       "419998      1  NaN  \n",
       "\n",
       "[2 rows x 32 columns]"
      ]
     },
     "execution_count": 130,
     "metadata": {},
     "output_type": "execute_result"
    }
   ],
   "source": [
    "df_all.loc[df_all.loc[:,'Id']==10]"
   ]
  },
  {
   "cell_type": "code",
   "execution_count": 117,
   "id": "1bad6c21",
   "metadata": {},
   "outputs": [
    {
     "name": "stdout",
     "output_type": "stream",
     "text": [
      "CH4                            99.999768\n",
      "C6H6                           86.763404\n",
      "C7H8                           86.707077\n",
      "C8H10                          86.671380\n",
      "NH3                            86.646346\n",
      "Ruido                          86.302821\n",
      "PM1                            80.525023\n",
      "CO                             54.329756\n",
      "Day                            36.549918\n",
      "PM10                           34.099812\n",
      "PM2.5                          34.079646\n",
      "Humedad relativa               20.229712\n",
      "Temperatura                    17.297466\n",
      "Radiacion                      17.133585\n",
      "Velocidad maxima del viento    16.982453\n",
      "Precipitacion                  16.777312\n",
      "Presion                        16.650054\n",
      "Velocidad del viento           14.868223\n",
      "Direccion del viento           14.422475\n",
      "SO2                            12.543984\n",
      "O3                             12.055817\n",
      "NO                              4.104448\n",
      "NO2                             4.098421\n",
      "NOx                             4.097262\n",
      "Fecha                           0.000000\n",
      "Estacion                        0.000000\n",
      "Hora                            0.000000\n",
      "Dia del mes                     0.000000\n",
      "Dia de la semana                0.000000\n",
      "Year                            0.000000\n",
      "Month                           0.000000\n",
      "Id                              0.000000\n",
      "dtype: float64\n"
     ]
    }
   ],
   "source": [
    "na_ratio = ((df.isnull().sum() / len(df))*100).sort_values(ascending = False)\n",
    "print(na_ratio)"
   ]
  },
  {
   "cell_type": "code",
   "execution_count": 121,
   "id": "641740d6",
   "metadata": {},
   "outputs": [
    {
     "name": "stdout",
     "output_type": "stream",
     "text": [
      "CH4                            99.999820\n",
      "C6H6                           89.695134\n",
      "C7H8                           89.651283\n",
      "C8H10                          89.623493\n",
      "NH3                            89.604003\n",
      "Ruido                          89.336565\n",
      "PM1                            84.754198\n",
      "CO                             64.364806\n",
      "PM10                           46.710073\n",
      "PM2.5                          46.694373\n",
      "Day                            36.358649\n",
      "SO2                            28.136809\n",
      "O3                             27.962667\n",
      "NO                             23.133615\n",
      "NOx                            23.133434\n",
      "NO2                            20.001768\n",
      "Humedad relativa               18.068523\n",
      "Radiacion                      15.659050\n",
      "Velocidad maxima del viento    15.228839\n",
      "Temperatura                    15.218011\n",
      "Precipitacion                  15.009402\n",
      "Presion                        14.867021\n",
      "Velocidad del viento           13.553287\n",
      "Direccion del viento           13.124159\n",
      "Fecha                           0.000000\n",
      "Estacion                        0.000000\n",
      "Hora                            0.000000\n",
      "Dia del mes                     0.000000\n",
      "Dia de la semana                0.000000\n",
      "Year                            0.000000\n",
      "Month                           0.000000\n",
      "Id                              0.000000\n",
      "dtype: float64\n"
     ]
    },
    {
     "data": {
      "text/plain": [
       "array(['Viveros', 'Avda. Francia', 'Bulevard Sud', 'Moli del Sol',\n",
       "       'Pista Silla', 'Politecnico', 'Valencia Centro',\n",
       "       'Puerto Moll Trans. Ponent'], dtype=object)"
      ]
     },
     "execution_count": 121,
     "metadata": {},
     "output_type": "execute_result"
    }
   ],
   "source": [
    "na_ratio = ((df_uni.isnull().sum() / len(df_uni))*100).sort_values(ascending = False)\n",
    "print(na_ratio)\n",
    "data['Estacion'].unique()"
   ]
  },
  {
   "cell_type": "code",
   "execution_count": 87,
   "id": "762c479c",
   "metadata": {},
   "outputs": [],
   "source": [
    "df = df.drop(df[df['Estacion']=='Conselleria Meteo'].index)\n",
    "df = df.drop(df[df['Estacion']=='Nazaret Meteo'].index)\n",
    "df = df.drop(df[df['Estacion']=='Puerto Valencia'].index)\n",
    "df = df.drop(df[df['Estacion']=='Valencia Olivereta'].index)"
   ]
  },
  {
   "cell_type": "code",
   "execution_count": 58,
   "id": "f97620e9",
   "metadata": {},
   "outputs": [
    {
     "data": {
      "text/plain": [
       "array(['Viveros', 'Avda. Francia', 'Bulevard Sud', 'Moli del Sol',\n",
       "       'Pista Silla', 'Politecnico', 'Valencia Centro',\n",
       "       'Puerto llit antic Turia', 'Puerto Moll Trans. Ponent'],\n",
       "      dtype=object)"
      ]
     },
     "execution_count": 58,
     "metadata": {},
     "output_type": "execute_result"
    }
   ],
   "source": [
    "df['Estacion'].unique()"
   ]
  },
  {
   "cell_type": "code",
   "execution_count": 59,
   "id": "53dfef75",
   "metadata": {},
   "outputs": [
    {
     "name": "stdout",
     "output_type": "stream",
     "text": [
      "CH4                            99.999768\n",
      "C6H6                           86.763404\n",
      "C7H8                           86.707077\n",
      "C8H10                          86.671380\n",
      "NH3                            86.646346\n",
      "Ruido                          86.302821\n",
      "PM1                            80.525023\n",
      "CO                             54.940080\n",
      "Day                            36.549918\n",
      "PM10                           34.079414\n",
      "PM2.5                          34.059248\n",
      "Humedad relativa               20.244083\n",
      "Radiacion                      17.133585\n",
      "Velocidad maxima del viento    16.982453\n",
      "Temperatura                    16.958809\n",
      "Precipitacion                  16.766881\n",
      "Presion                        16.650054\n",
      "Velocidad del viento           14.868223\n",
      "Direccion del viento           14.422475\n",
      "SO2                            12.476530\n",
      "O3                             11.986973\n",
      "NO2                             4.143622\n",
      "NO                              4.142695\n",
      "NOx                             4.142463\n",
      "Fecha                           0.000000\n",
      "Estacion                        0.000000\n",
      "Hora                            0.000000\n",
      "Dia del mes                     0.000000\n",
      "Dia de la semana                0.000000\n",
      "Year                            0.000000\n",
      "Month                           0.000000\n",
      "Id                              0.000000\n",
      "dtype: float64\n"
     ]
    }
   ],
   "source": [
    "na_ratio = ((df.isnull().sum() / len(df))*100).sort_values(ascending = False)\n",
    "print(na_ratio)"
   ]
  },
  {
   "cell_type": "markdown",
   "id": "3b1e7272",
   "metadata": {},
   "source": [
    "### CONCATENEM ELS DOS DF"
   ]
  },
  {
   "cell_type": "markdown",
   "id": "76534861",
   "metadata": {},
   "source": [
    "## Reomplim els faltants amb els datasets"
   ]
  },
  {
   "cell_type": "markdown",
   "id": "3f28d777",
   "metadata": {},
   "source": [
    "### # faltants per columnes"
   ]
  },
  {
   "cell_type": "code",
   "execution_count": 13,
   "id": "446117e5",
   "metadata": {},
   "outputs": [
    {
     "name": "stdout",
     "output_type": "stream",
     "text": [
      "554146\n"
     ]
    },
    {
     "data": {
      "text/plain": [
       "Id                                  0\n",
       "Fecha                               0\n",
       "Dia de la semana                    0\n",
       "Dia del mes                         0\n",
       "Hora                                0\n",
       "Estacion                            0\n",
       "PM1                            469662\n",
       "PM2.5                          258755\n",
       "PM10                           258842\n",
       "NO                             128194\n",
       "NO2                            110839\n",
       "NOx                            128193\n",
       "O3                             154954\n",
       "SO2                            155919\n",
       "CO                             356675\n",
       "Velocidad del viento            75105\n",
       "Direccion del viento            72727\n",
       "NH3                            496537\n",
       "C7H8                           496799\n",
       "C6H6                           497042\n",
       "Ruido                          495055\n",
       "C8H10                          496645\n",
       "Temperatura                     85791\n",
       "Humedad relativa               100126\n",
       "Presion                         82385\n",
       "Radiacion                       86774\n",
       "Precipitacion                   83174\n",
       "Velocidad maxima del viento     84390\n",
       "Day                            201480\n",
       "Year                                0\n",
       "Month                               0\n",
       "CH4                            554145\n",
       "dtype: int64"
      ]
     },
     "execution_count": 13,
     "metadata": {},
     "output_type": "execute_result"
    }
   ],
   "source": [
    "print(len(df2))\n",
    "df2.isnull().sum()"
   ]
  },
  {
   "cell_type": "code",
   "execution_count": 15,
   "id": "0a36f23d",
   "metadata": {},
   "outputs": [
    {
     "name": "stdout",
     "output_type": "stream",
     "text": [
      "CH4                            99.999820\n",
      "C6H6                           89.695134\n",
      "C7H8                           89.651283\n",
      "C8H10                          89.623493\n",
      "NH3                            89.604003\n",
      "Ruido                          89.336565\n",
      "PM1                            84.754198\n",
      "CO                             64.364806\n",
      "PM10                           46.710073\n",
      "PM2.5                          46.694373\n",
      "Day                            36.358649\n",
      "SO2                            28.136809\n",
      "O3                             27.962667\n",
      "NO                             23.133615\n",
      "NOx                            23.133434\n",
      "NO2                            20.001768\n",
      "Humedad relativa               18.068523\n",
      "Radiacion                      15.659050\n",
      "Temperatura                    15.481660\n",
      "Velocidad maxima del viento    15.228839\n",
      "Precipitacion                  15.009402\n",
      "Presion                        14.867021\n",
      "Velocidad del viento           13.553287\n",
      "Direccion del viento           13.124159\n",
      "Fecha                           0.000000\n",
      "Estacion                        0.000000\n",
      "Hora                            0.000000\n",
      "Dia del mes                     0.000000\n",
      "Dia de la semana                0.000000\n",
      "Year                            0.000000\n",
      "Month                           0.000000\n",
      "Id                              0.000000\n",
      "dtype: float64\n"
     ]
    }
   ],
   "source": [
    "na_ratio = ((df2.isnull().sum() / len(df2))*100).sort_values(ascending = False)\n",
    "print(na_ratio)"
   ]
  },
  {
   "cell_type": "markdown",
   "id": "d29f38ba",
   "metadata": {},
   "source": [
    "Com hem pogut veure, segueixen havent moltes variables amb un nombre elevat de valors faltants. Per això, anem a unificar les dades amb altre csv, per veure si podem reduïr el nombre de valors faltants. "
   ]
  },
  {
   "cell_type": "code",
   "execution_count": 18,
   "id": "0e750a06",
   "metadata": {},
   "outputs": [
    {
     "data": {
      "text/plain": [
       "Id                     0\n",
       "Dia del mes            0\n",
       "Hora                   0\n",
       "NO                  1685\n",
       "NO2                 1685\n",
       "NOx                 1685\n",
       "SO2                    0\n",
       "Temperatura            0\n",
       "Humedad relativa       0\n",
       "Precipitacion          0\n",
       "Month                  0\n",
       "Year                   0\n",
       "O3_pred                0\n",
       "Estacion               0\n",
       "PM2.5               1765\n",
       "PM10                1765\n",
       "CO                  2244\n",
       "dtype: int64"
      ]
     },
     "execution_count": 18,
     "metadata": {},
     "output_type": "execute_result"
    }
   ],
   "source": [
    "data.isnull().sum()"
   ]
  },
  {
   "cell_type": "code",
   "execution_count": 20,
   "id": "cea66545",
   "metadata": {},
   "outputs": [
    {
     "name": "stdout",
     "output_type": "stream",
     "text": [
      "Id                               0.000000\n",
      "Fecha                            0.000000\n",
      "Dia de la semana                 0.000000\n",
      "Dia del mes                      0.000000\n",
      "Hora                             0.000000\n",
      "Estacion                         0.000000\n",
      "PM1                             85.026148\n",
      "PM2.5                           47.671552\n",
      "PM10                            47.671552\n",
      "NO                              24.092387\n",
      "NO2                             20.960722\n",
      "NOx                             24.092207\n",
      "O3                              29.057685\n",
      "SO2                             29.235797\n",
      "CO                              65.343429\n",
      "Velocidad del viento            14.076796\n",
      "Direccion del viento            13.580717\n",
      "NH3                             89.847080\n",
      "C7H8                            90.015628\n",
      "C6H6                            90.087811\n",
      "Ruido                           89.489232\n",
      "C8H10                           89.984408\n",
      "Temperatura                     15.842576\n",
      "Humedad relativa                18.635522\n",
      "Presion                         15.213319\n",
      "Radiacion                       15.659050\n",
      "Precipitacion                   15.328993\n",
      "Velocidad maxima del viento     15.595890\n",
      "Fecha creacion                   0.000000\n",
      "Fecha baja                     100.000000\n",
      "Day                             36.358649\n",
      "Year                             0.000000\n",
      "Month                            0.000000\n",
      "dtype: float64\n"
     ]
    }
   ],
   "source": [
    "na_ratio = ((df_all.isnull().sum() / len(df_all))*100)\n",
    "print(na_ratio)"
   ]
  },
  {
   "cell_type": "markdown",
   "id": "a8816fe7",
   "metadata": {},
   "source": [
    "Per a intentar reomplir els faltants amb el segon dataset, el que hemfet ha sigut unificar-los a un merge a l'esquerra a partir de 3 columnes: Hora, Data i Estació. \n"
   ]
  },
  {
   "cell_type": "code",
   "execution_count": 23,
   "id": "6dde7b03",
   "metadata": {},
   "outputs": [],
   "source": [
    "df=df_all.merge(data, how=\"left\", on = [\"Id\"])"
   ]
  },
  {
   "cell_type": "markdown",
   "id": "866c611f",
   "metadata": {},
   "source": [
    "S'ha creat un df amb les columnes d'ambdós df, les columnes acabades amb x pertanyen al primer df (df_all), y les acabes amb y al segon (data). Per això, el que fem es recorrem totes les columnes i per a aquelles que acaben en x, és a dir, son del primer dataset, per a totes les instàncies per a cada columna si el valor es faltant el reomplim amb el valor del segon df (data), que pot ser nan o un valor. "
   ]
  },
  {
   "cell_type": "code",
   "execution_count": 26,
   "id": "a5f27c43",
   "metadata": {},
   "outputs": [],
   "source": [
    "df=df_all.merge(data, how=\"left\", on = [\"Id\"])\n",
    "for column in [i for i in df.columns if i.endswith(\"_x\")]:\n",
    "    df.loc[df[column].isna(),column]= df[df[column].isna()][column[:-2]+\"_y\"]\n",
    "df = df[[i for i in df.columns if not i.endswith(\"_y\")]]\n",
    "df.columns = [i if not i.endswith(\"_x\") else i[:-2] for i in df.columns]"
   ]
  },
  {
   "cell_type": "markdown",
   "id": "921d847b",
   "metadata": {},
   "source": [
    "Després de reomplir els df hem pogut disminuir el nombre de faltants en al menys un 1%"
   ]
  },
  {
   "cell_type": "code",
   "execution_count": 27,
   "id": "356a11e1",
   "metadata": {},
   "outputs": [
    {
     "name": "stdout",
     "output_type": "stream",
     "text": [
      "Id                              0.000000\n",
      "Fecha                           0.000000\n",
      "Dia de la semana                0.000000\n",
      "Dia del mes_x                   0.000000\n",
      "Hora_x                          0.000000\n",
      "Estacion_x                      0.000000\n",
      "PM1                            84.754198\n",
      "PM2.5_x                        46.520592\n",
      "PM10_x                         46.536292\n",
      "NO_x                           23.051145\n",
      "NO2_x                          19.923991\n",
      "NOx_x                          23.050965\n",
      "O3_x                           26.939471\n",
      "SO2_x                          27.900409\n",
      "CO_x                           64.102962\n",
      "Velocidad del viento           13.553287\n",
      "Direccion del viento           13.124159\n",
      "NH3                            89.604003\n",
      "C7H8                           89.651283\n",
      "C6H6                           89.695134\n",
      "Ruido                          89.336565\n",
      "C8H10                          89.623493\n",
      "Temperatura_x                  15.358588\n",
      "Humedad relativa_x             17.938233\n",
      "Presion                        14.867021\n",
      "Radiacion                      15.659050\n",
      "Precipitacion_x                14.891924\n",
      "Velocidad maxima del viento    15.228839\n",
      "Day                            36.358649\n",
      "Year_x                          0.000000\n",
      "Month_x                         0.000000\n",
      "CH4                            99.999820\n",
      "Dia del mes_y                  98.575827\n",
      "Hora_y                         98.575827\n",
      "NO_y                           99.120629\n",
      "NO2_y                          99.120629\n",
      "NOx_y                          99.120629\n",
      "SO2_y                          98.575827\n",
      "Temperatura_y                  98.575827\n",
      "Humedad relativa_y             98.575827\n",
      "Precipitacion_y                98.575827\n",
      "Month_y                        98.575827\n",
      "Year_y                         98.575827\n",
      "O3_y                           98.575827\n",
      "Estacion_y                     98.575827\n",
      "PM2.5_y                        99.128028\n",
      "PM10_y                         99.128028\n",
      "CO_y                           99.253987\n",
      "dtype: float64\n"
     ]
    }
   ],
   "source": [
    "na_ratio = ((df.isnull().sum() / len(df))*100)\n",
    "print(na_ratio)"
   ]
  },
  {
   "cell_type": "code",
   "execution_count": 31,
   "id": "d2cc2055",
   "metadata": {},
   "outputs": [
    {
     "data": {
      "text/html": [
       "<div>\n",
       "<style scoped>\n",
       "    .dataframe tbody tr th:only-of-type {\n",
       "        vertical-align: middle;\n",
       "    }\n",
       "\n",
       "    .dataframe tbody tr th {\n",
       "        vertical-align: top;\n",
       "    }\n",
       "\n",
       "    .dataframe thead th {\n",
       "        text-align: right;\n",
       "    }\n",
       "</style>\n",
       "<table border=\"1\" class=\"dataframe\">\n",
       "  <thead>\n",
       "    <tr style=\"text-align: right;\">\n",
       "      <th></th>\n",
       "      <th>Id</th>\n",
       "      <th>Fecha</th>\n",
       "      <th>Dia de la semana</th>\n",
       "      <th>Dia del mes</th>\n",
       "      <th>Hora</th>\n",
       "      <th>Estacion</th>\n",
       "      <th>PM1_x</th>\n",
       "      <th>PM2.5_x</th>\n",
       "      <th>PM10_x</th>\n",
       "      <th>NO_x</th>\n",
       "      <th>...</th>\n",
       "      <th>Radiacion</th>\n",
       "      <th>Precipitacion_x</th>\n",
       "      <th>Velocidad maxima del viento_x</th>\n",
       "      <th>Fecha creacion</th>\n",
       "      <th>Fecha baja</th>\n",
       "      <th>Day</th>\n",
       "      <th>Year</th>\n",
       "      <th>Month</th>\n",
       "      <th>CH4</th>\n",
       "      <th>R.Sol.</th>\n",
       "    </tr>\n",
       "  </thead>\n",
       "  <tbody>\n",
       "    <tr>\n",
       "      <th>0</th>\n",
       "      <td>250003</td>\n",
       "      <td>15/10/2019</td>\n",
       "      <td>Martes</td>\n",
       "      <td>15</td>\n",
       "      <td>8</td>\n",
       "      <td>Viveros</td>\n",
       "      <td>NaN</td>\n",
       "      <td>NaN</td>\n",
       "      <td>NaN</td>\n",
       "      <td>7.0</td>\n",
       "      <td>...</td>\n",
       "      <td>250.0</td>\n",
       "      <td>0.0</td>\n",
       "      <td>8.8</td>\n",
       "      <td>2023-02-15</td>\n",
       "      <td>NaN</td>\n",
       "      <td>15.0</td>\n",
       "      <td>2019</td>\n",
       "      <td>10</td>\n",
       "      <td>NaN</td>\n",
       "      <td>NaN</td>\n",
       "    </tr>\n",
       "    <tr>\n",
       "      <th>1</th>\n",
       "      <td>250007</td>\n",
       "      <td>15/10/2019</td>\n",
       "      <td>Martes</td>\n",
       "      <td>15</td>\n",
       "      <td>12</td>\n",
       "      <td>Viveros</td>\n",
       "      <td>NaN</td>\n",
       "      <td>NaN</td>\n",
       "      <td>NaN</td>\n",
       "      <td>3.0</td>\n",
       "      <td>...</td>\n",
       "      <td>750.0</td>\n",
       "      <td>0.0</td>\n",
       "      <td>2.5</td>\n",
       "      <td>2023-02-15</td>\n",
       "      <td>NaN</td>\n",
       "      <td>15.0</td>\n",
       "      <td>2019</td>\n",
       "      <td>10</td>\n",
       "      <td>NaN</td>\n",
       "      <td>NaN</td>\n",
       "    </tr>\n",
       "    <tr>\n",
       "      <th>2</th>\n",
       "      <td>250008</td>\n",
       "      <td>15/10/2019</td>\n",
       "      <td>Martes</td>\n",
       "      <td>15</td>\n",
       "      <td>13</td>\n",
       "      <td>Viveros</td>\n",
       "      <td>NaN</td>\n",
       "      <td>NaN</td>\n",
       "      <td>NaN</td>\n",
       "      <td>3.0</td>\n",
       "      <td>...</td>\n",
       "      <td>728.0</td>\n",
       "      <td>0.0</td>\n",
       "      <td>2.4</td>\n",
       "      <td>2023-02-15</td>\n",
       "      <td>NaN</td>\n",
       "      <td>15.0</td>\n",
       "      <td>2019</td>\n",
       "      <td>10</td>\n",
       "      <td>NaN</td>\n",
       "      <td>NaN</td>\n",
       "    </tr>\n",
       "    <tr>\n",
       "      <th>3</th>\n",
       "      <td>250012</td>\n",
       "      <td>15/10/2019</td>\n",
       "      <td>Martes</td>\n",
       "      <td>15</td>\n",
       "      <td>17</td>\n",
       "      <td>Viveros</td>\n",
       "      <td>NaN</td>\n",
       "      <td>NaN</td>\n",
       "      <td>NaN</td>\n",
       "      <td>4.0</td>\n",
       "      <td>...</td>\n",
       "      <td>127.0</td>\n",
       "      <td>0.0</td>\n",
       "      <td>6.4</td>\n",
       "      <td>2023-02-15</td>\n",
       "      <td>NaN</td>\n",
       "      <td>15.0</td>\n",
       "      <td>2019</td>\n",
       "      <td>10</td>\n",
       "      <td>NaN</td>\n",
       "      <td>NaN</td>\n",
       "    </tr>\n",
       "    <tr>\n",
       "      <th>4</th>\n",
       "      <td>250014</td>\n",
       "      <td>15/10/2019</td>\n",
       "      <td>Martes</td>\n",
       "      <td>15</td>\n",
       "      <td>19</td>\n",
       "      <td>Viveros</td>\n",
       "      <td>NaN</td>\n",
       "      <td>NaN</td>\n",
       "      <td>NaN</td>\n",
       "      <td>19.0</td>\n",
       "      <td>...</td>\n",
       "      <td>0.0</td>\n",
       "      <td>0.0</td>\n",
       "      <td>6.6</td>\n",
       "      <td>2023-02-15</td>\n",
       "      <td>NaN</td>\n",
       "      <td>15.0</td>\n",
       "      <td>2019</td>\n",
       "      <td>10</td>\n",
       "      <td>NaN</td>\n",
       "      <td>NaN</td>\n",
       "    </tr>\n",
       "    <tr>\n",
       "      <th>...</th>\n",
       "      <td>...</td>\n",
       "      <td>...</td>\n",
       "      <td>...</td>\n",
       "      <td>...</td>\n",
       "      <td>...</td>\n",
       "      <td>...</td>\n",
       "      <td>...</td>\n",
       "      <td>...</td>\n",
       "      <td>...</td>\n",
       "      <td>...</td>\n",
       "      <td>...</td>\n",
       "      <td>...</td>\n",
       "      <td>...</td>\n",
       "      <td>...</td>\n",
       "      <td>...</td>\n",
       "      <td>...</td>\n",
       "      <td>...</td>\n",
       "      <td>...</td>\n",
       "      <td>...</td>\n",
       "      <td>...</td>\n",
       "      <td>...</td>\n",
       "    </tr>\n",
       "    <tr>\n",
       "      <th>554141</th>\n",
       "      <td>169983</td>\n",
       "      <td>28/05/2022</td>\n",
       "      <td>Sabado</td>\n",
       "      <td>28</td>\n",
       "      <td>14</td>\n",
       "      <td>Nazaret Meteo</td>\n",
       "      <td>NaN</td>\n",
       "      <td>NaN</td>\n",
       "      <td>NaN</td>\n",
       "      <td>NaN</td>\n",
       "      <td>...</td>\n",
       "      <td>987.0</td>\n",
       "      <td>0.0</td>\n",
       "      <td>7.8</td>\n",
       "      <td>2023-02-15</td>\n",
       "      <td>NaN</td>\n",
       "      <td>NaN</td>\n",
       "      <td>2022</td>\n",
       "      <td>5</td>\n",
       "      <td>NaN</td>\n",
       "      <td>987.0</td>\n",
       "    </tr>\n",
       "    <tr>\n",
       "      <th>554142</th>\n",
       "      <td>169993</td>\n",
       "      <td>29/05/2022</td>\n",
       "      <td>Domingo</td>\n",
       "      <td>29</td>\n",
       "      <td>0</td>\n",
       "      <td>Nazaret Meteo</td>\n",
       "      <td>NaN</td>\n",
       "      <td>NaN</td>\n",
       "      <td>NaN</td>\n",
       "      <td>NaN</td>\n",
       "      <td>...</td>\n",
       "      <td>1.0</td>\n",
       "      <td>0.0</td>\n",
       "      <td>1.1</td>\n",
       "      <td>2023-02-15</td>\n",
       "      <td>NaN</td>\n",
       "      <td>NaN</td>\n",
       "      <td>2022</td>\n",
       "      <td>5</td>\n",
       "      <td>NaN</td>\n",
       "      <td>1.0</td>\n",
       "    </tr>\n",
       "    <tr>\n",
       "      <th>554143</th>\n",
       "      <td>169994</td>\n",
       "      <td>29/05/2022</td>\n",
       "      <td>Domingo</td>\n",
       "      <td>29</td>\n",
       "      <td>1</td>\n",
       "      <td>Nazaret Meteo</td>\n",
       "      <td>NaN</td>\n",
       "      <td>NaN</td>\n",
       "      <td>NaN</td>\n",
       "      <td>NaN</td>\n",
       "      <td>...</td>\n",
       "      <td>1.0</td>\n",
       "      <td>0.0</td>\n",
       "      <td>1.6</td>\n",
       "      <td>2023-02-15</td>\n",
       "      <td>NaN</td>\n",
       "      <td>NaN</td>\n",
       "      <td>2022</td>\n",
       "      <td>5</td>\n",
       "      <td>NaN</td>\n",
       "      <td>1.0</td>\n",
       "    </tr>\n",
       "    <tr>\n",
       "      <th>554144</th>\n",
       "      <td>169996</td>\n",
       "      <td>29/05/2022</td>\n",
       "      <td>Domingo</td>\n",
       "      <td>29</td>\n",
       "      <td>3</td>\n",
       "      <td>Nazaret Meteo</td>\n",
       "      <td>NaN</td>\n",
       "      <td>NaN</td>\n",
       "      <td>NaN</td>\n",
       "      <td>NaN</td>\n",
       "      <td>...</td>\n",
       "      <td>1.0</td>\n",
       "      <td>0.0</td>\n",
       "      <td>2.3</td>\n",
       "      <td>2023-02-15</td>\n",
       "      <td>NaN</td>\n",
       "      <td>NaN</td>\n",
       "      <td>2022</td>\n",
       "      <td>5</td>\n",
       "      <td>NaN</td>\n",
       "      <td>1.0</td>\n",
       "    </tr>\n",
       "    <tr>\n",
       "      <th>554145</th>\n",
       "      <td>170000</td>\n",
       "      <td>29/05/2022</td>\n",
       "      <td>Domingo</td>\n",
       "      <td>29</td>\n",
       "      <td>7</td>\n",
       "      <td>Nazaret Meteo</td>\n",
       "      <td>NaN</td>\n",
       "      <td>NaN</td>\n",
       "      <td>NaN</td>\n",
       "      <td>NaN</td>\n",
       "      <td>...</td>\n",
       "      <td>233.0</td>\n",
       "      <td>0.0</td>\n",
       "      <td>4.5</td>\n",
       "      <td>2023-02-15</td>\n",
       "      <td>NaN</td>\n",
       "      <td>NaN</td>\n",
       "      <td>2022</td>\n",
       "      <td>5</td>\n",
       "      <td>NaN</td>\n",
       "      <td>233.0</td>\n",
       "    </tr>\n",
       "  </tbody>\n",
       "</table>\n",
       "<p>554146 rows × 35 columns</p>\n",
       "</div>"
      ],
      "text/plain": [
       "            Id       Fecha Dia de la semana  Dia del mes  Hora       Estacion  \\\n",
       "0       250003  15/10/2019           Martes           15     8        Viveros   \n",
       "1       250007  15/10/2019           Martes           15    12        Viveros   \n",
       "2       250008  15/10/2019           Martes           15    13        Viveros   \n",
       "3       250012  15/10/2019           Martes           15    17        Viveros   \n",
       "4       250014  15/10/2019           Martes           15    19        Viveros   \n",
       "...        ...         ...              ...          ...   ...            ...   \n",
       "554141  169983  28/05/2022           Sabado           28    14  Nazaret Meteo   \n",
       "554142  169993  29/05/2022          Domingo           29     0  Nazaret Meteo   \n",
       "554143  169994  29/05/2022          Domingo           29     1  Nazaret Meteo   \n",
       "554144  169996  29/05/2022          Domingo           29     3  Nazaret Meteo   \n",
       "554145  170000  29/05/2022          Domingo           29     7  Nazaret Meteo   \n",
       "\n",
       "        PM1_x  PM2.5_x  PM10_x  NO_x  ...  Radiacion  Precipitacion_x  \\\n",
       "0         NaN      NaN     NaN   7.0  ...      250.0              0.0   \n",
       "1         NaN      NaN     NaN   3.0  ...      750.0              0.0   \n",
       "2         NaN      NaN     NaN   3.0  ...      728.0              0.0   \n",
       "3         NaN      NaN     NaN   4.0  ...      127.0              0.0   \n",
       "4         NaN      NaN     NaN  19.0  ...        0.0              0.0   \n",
       "...       ...      ...     ...   ...  ...        ...              ...   \n",
       "554141    NaN      NaN     NaN   NaN  ...      987.0              0.0   \n",
       "554142    NaN      NaN     NaN   NaN  ...        1.0              0.0   \n",
       "554143    NaN      NaN     NaN   NaN  ...        1.0              0.0   \n",
       "554144    NaN      NaN     NaN   NaN  ...        1.0              0.0   \n",
       "554145    NaN      NaN     NaN   NaN  ...      233.0              0.0   \n",
       "\n",
       "        Velocidad maxima del viento_x  Fecha creacion Fecha baja   Day  Year  \\\n",
       "0                                 8.8      2023-02-15        NaN  15.0  2019   \n",
       "1                                 2.5      2023-02-15        NaN  15.0  2019   \n",
       "2                                 2.4      2023-02-15        NaN  15.0  2019   \n",
       "3                                 6.4      2023-02-15        NaN  15.0  2019   \n",
       "4                                 6.6      2023-02-15        NaN  15.0  2019   \n",
       "...                               ...             ...        ...   ...   ...   \n",
       "554141                            7.8      2023-02-15        NaN   NaN  2022   \n",
       "554142                            1.1      2023-02-15        NaN   NaN  2022   \n",
       "554143                            1.6      2023-02-15        NaN   NaN  2022   \n",
       "554144                            2.3      2023-02-15        NaN   NaN  2022   \n",
       "554145                            4.5      2023-02-15        NaN   NaN  2022   \n",
       "\n",
       "        Month  CH4 R.Sol.  \n",
       "0          10  NaN    NaN  \n",
       "1          10  NaN    NaN  \n",
       "2          10  NaN    NaN  \n",
       "3          10  NaN    NaN  \n",
       "4          10  NaN    NaN  \n",
       "...       ...  ...    ...  \n",
       "554141      5  NaN  987.0  \n",
       "554142      5  NaN    1.0  \n",
       "554143      5  NaN    1.0  \n",
       "554144      5  NaN    1.0  \n",
       "554145      5  NaN  233.0  \n",
       "\n",
       "[554146 rows x 35 columns]"
      ]
     },
     "execution_count": 31,
     "metadata": {},
     "output_type": "execute_result"
    }
   ],
   "source": [
    "df = df[[i for i in df.columns if not i.endswith(\"_y\")]]\n",
    "df"
   ]
  },
  {
   "cell_type": "code",
   "execution_count": 32,
   "id": "595d2fe5",
   "metadata": {},
   "outputs": [],
   "source": [
    "df = df.drop('R.Sol.',axis=1)\n"
   ]
  },
  {
   "cell_type": "code",
   "execution_count": 33,
   "id": "a7fb6c58",
   "metadata": {},
   "outputs": [],
   "source": [
    "df = df.drop('Fecha creacion',axis=1)\n",
    "df = df.drop('Fecha baja',axis=1)"
   ]
  },
  {
   "cell_type": "code",
   "execution_count": 28,
   "id": "8cc209d8",
   "metadata": {},
   "outputs": [],
   "source": [
    "df.columns = [i if not i.endswith(\"_x\") else i[:-2] for i in df.columns]"
   ]
  },
  {
   "cell_type": "code",
   "execution_count": 29,
   "id": "07ae56ca",
   "metadata": {},
   "outputs": [
    {
     "data": {
      "text/plain": [
       "Index(['Id', 'Fecha', 'Dia de la semana', 'Dia del mes', 'Hora', 'Estacion',\n",
       "       'PM1', 'PM2.5', 'PM10', 'NO', 'NO2', 'NOx', 'O3', 'SO2', 'CO',\n",
       "       'Velocidad del viento', 'Direccion del viento', 'NH3', 'C7H8', 'C6H6',\n",
       "       'Ruido', 'C8H10', 'Temperatura', 'Humedad relativa', 'Presion',\n",
       "       'Radiacion', 'Precipitacion', 'Velocidad maxima del viento', 'Day',\n",
       "       'Year', 'Month', 'CH4', 'Dia del mes_y', 'Hora_y', 'NO_y', 'NO2_y',\n",
       "       'NOx_y', 'SO2_y', 'Temperatura_y', 'Humedad relativa_y',\n",
       "       'Precipitacion_y', 'Month_y', 'Year_y', 'O3_y', 'Estacion_y', 'PM2.5_y',\n",
       "       'PM10_y', 'CO_y'],\n",
       "      dtype='object')"
      ]
     },
     "execution_count": 29,
     "metadata": {},
     "output_type": "execute_result"
    }
   ],
   "source": [
    "df.columns"
   ]
  },
  {
   "cell_type": "code",
   "execution_count": 36,
   "id": "8ee823aa",
   "metadata": {},
   "outputs": [],
   "source": [
    "c=['PM1', 'PM2.5', 'PM10', 'NO', 'NO2', 'NOx', 'O3', 'SO2', 'CO',\n",
    "       'Velocidad del viento', 'Direccion del viento', 'NH3', 'C7H8', 'C6H6',\n",
    "       'Ruido', 'C8H10', 'Temperatura', 'Humedad relativa', 'Presion',\n",
    "       'Radiacion', 'Precipitacion', 'Velocidad maxima del viento', 'CH4']\n",
    "for i in c:\n",
    "    df[i] = [float(str(i).replace(\",\", \".\")) for i in df[i]]"
   ]
  },
  {
   "cell_type": "code",
   "execution_count": 9,
   "id": "2c906b46",
   "metadata": {},
   "outputs": [],
   "source": [
    "df.to_csv(f'DF_reconstruccio.csv',decimal='.',header=True, index=False)\n"
   ]
  },
  {
   "cell_type": "code",
   "execution_count": 10,
   "id": "36f7f319",
   "metadata": {},
   "outputs": [
    {
     "name": "stdout",
     "output_type": "stream",
     "text": [
      "Collecting missingno\n",
      "  Downloading missingno-0.5.2-py3-none-any.whl (8.7 kB)\n",
      "Requirement already satisfied: numpy in c:\\users\\annal\\anaconda3\\lib\\site-packages (from missingno) (1.23.5)\n",
      "Requirement already satisfied: matplotlib in c:\\users\\annal\\anaconda3\\lib\\site-packages (from missingno) (3.7.0)\n",
      "Requirement already satisfied: scipy in c:\\users\\annal\\anaconda3\\lib\\site-packages (from missingno) (1.10.0)\n",
      "Requirement already satisfied: seaborn in c:\\users\\annal\\anaconda3\\lib\\site-packages (from missingno) (0.12.2)\n",
      "Requirement already satisfied: cycler>=0.10 in c:\\users\\annal\\anaconda3\\lib\\site-packages (from matplotlib->missingno) (0.11.0)\n",
      "Requirement already satisfied: kiwisolver>=1.0.1 in c:\\users\\annal\\anaconda3\\lib\\site-packages (from matplotlib->missingno) (1.4.4)\n",
      "Requirement already satisfied: fonttools>=4.22.0 in c:\\users\\annal\\anaconda3\\lib\\site-packages (from matplotlib->missingno) (4.25.0)\n",
      "Requirement already satisfied: pyparsing>=2.3.1 in c:\\users\\annal\\anaconda3\\lib\\site-packages (from matplotlib->missingno) (3.0.9)\n",
      "Requirement already satisfied: contourpy>=1.0.1 in c:\\users\\annal\\anaconda3\\lib\\site-packages (from matplotlib->missingno) (1.0.5)\n",
      "Requirement already satisfied: packaging>=20.0 in c:\\users\\annal\\anaconda3\\lib\\site-packages (from matplotlib->missingno) (22.0)\n",
      "Requirement already satisfied: python-dateutil>=2.7 in c:\\users\\annal\\anaconda3\\lib\\site-packages (from matplotlib->missingno) (2.8.2)\n",
      "Requirement already satisfied: pillow>=6.2.0 in c:\\users\\annal\\anaconda3\\lib\\site-packages (from matplotlib->missingno) (9.4.0)\n",
      "Requirement already satisfied: pandas>=0.25 in c:\\users\\annal\\anaconda3\\lib\\site-packages (from seaborn->missingno) (1.5.3)\n",
      "Requirement already satisfied: pytz>=2020.1 in c:\\users\\annal\\anaconda3\\lib\\site-packages (from pandas>=0.25->seaborn->missingno) (2022.7)\n",
      "Requirement already satisfied: six>=1.5 in c:\\users\\annal\\anaconda3\\lib\\site-packages (from python-dateutil>=2.7->matplotlib->missingno) (1.16.0)\n",
      "Installing collected packages: missingno\n",
      "Successfully installed missingno-0.5.2\n"
     ]
    }
   ],
   "source": [
    "!pip install missingno"
   ]
  },
  {
   "cell_type": "code",
   "execution_count": 11,
   "id": "73c92a6b",
   "metadata": {},
   "outputs": [],
   "source": [
    "import missingno as msno"
   ]
  },
  {
   "cell_type": "code",
   "execution_count": 14,
   "id": "b50eea13",
   "metadata": {},
   "outputs": [
    {
     "data": {
      "text/plain": [
       "Index(['Id', 'Fecha', 'Dia de la semana', 'Dia del mes', 'Hora', 'Estacion',\n",
       "       'PM1', 'PM2.5', 'PM10', 'NO', 'NO2', 'NOx', 'O3', 'SO2', 'CO',\n",
       "       'Velocidad del viento', 'Direccion del viento', 'NH3', 'C7H8', 'C6H6',\n",
       "       'Ruido', 'C8H10', 'Temperatura', 'Humedad relativa', 'Presion',\n",
       "       'Radiacion', 'Precipitacion', 'Velocidad maxima del viento', 'Day',\n",
       "       'Year', 'Month', 'CH4'],\n",
       "      dtype='object')"
      ]
     },
     "execution_count": 14,
     "metadata": {},
     "output_type": "execute_result"
    }
   ],
   "source": [
    "df.columns"
   ]
  },
  {
   "cell_type": "code",
   "execution_count": 17,
   "id": "2209ae57",
   "metadata": {},
   "outputs": [],
   "source": [
    "df2 = df.rename(columns={'Fecha':'Data','Dia de la semana':'Dia de la setmana','Estacion':'Estació', 'Humedad relativa':'Humitat relativa'})\n"
   ]
  },
  {
   "cell_type": "code",
   "execution_count": 19,
   "id": "e81f50bb",
   "metadata": {},
   "outputs": [
    {
     "data": {
      "text/plain": [
       "<Axes: >"
      ]
     },
     "execution_count": 19,
     "metadata": {},
     "output_type": "execute_result"
    },
    {
     "data": {
      "image/png": "[encoded data removed]",
      "text/plain": [
       "<Figure size 2500x1000 with 2 Axes>"
      ]
     },
     "metadata": {},
     "output_type": "display_data"
    }
   ],
   "source": [
    "msno.matrix(df2[['Id', 'Data', 'Dia de la setmana', 'Dia del mes', 'Hora', 'Estació',\n",
    "        'PM2.5', 'PM10', 'NO', 'NO2', 'NOx', 'O3', 'SO2', 'CO', 'Temperatura', 'Humitat relativa']])"
   ]
  },
  {
   "cell_type": "code",
   "execution_count": null,
   "id": "04aba6d2",
   "metadata": {},
   "outputs": [],
   "source": []
  }
 ],
 "metadata": {
  "kernelspec": {
   "display_name": "Python 3 (ipykernel)",
   "language": "python",
   "name": "python3"
  },
  "language_info": {
   "codemirror_mode": {
    "name": "ipython",
    "version": 3
   },
   "file_extension": ".py",
   "mimetype": "text/x-python",
   "name": "python",
   "nbconvert_exporter": "python",
   "pygments_lexer": "ipython3",
   "version": "3.10.9"
  }
 },
 "nbformat": 4,
 "nbformat_minor": 5
}
